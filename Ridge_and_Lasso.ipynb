{
  "nbformat": 4,
  "nbformat_minor": 0,
  "metadata": {
    "colab": {
      "name": "Ridge and Lasso.ipynb",
      "provenance": [],
      "collapsed_sections": []
    },
    "kernelspec": {
      "name": "python3",
      "display_name": "Python 3"
    },
    "language_info": {
      "name": "python"
    }
  },
  "cells": [
    {
      "cell_type": "code",
      "execution_count": 690,
      "metadata": {
        "id": "9vCgaO5WQABX"
      },
      "outputs": [],
      "source": [
        "import pandas as pd\n",
        "import numpy as np\n",
        "import calendar\n",
        "\n",
        "import matplotlib.pyplot as plt\n",
        "import seaborn as sns\n",
        "\n",
        "from sklearn.feature_selection import RFE\n",
        "from sklearn.linear_model import LinearRegression\n",
        "\n",
        "from sklearn.model_selection import train_test_split\n",
        "from sklearn.preprocessing import MinMaxScaler\n",
        "import statsmodels.api as sm\n",
        "from statsmodels.stats.outliers_influence import variance_inflation_factor\n",
        "from sklearn.metrics import mean_squared_error, r2_score\n",
        "\n",
        "from sklearn.preprocessing import PolynomialFeatures, MinMaxScaler\n",
        "from sklearn.linear_model import LinearRegression, Ridge, Lasso\n",
        "\n",
        "from sklearn.model_selection import RepeatedKFold\n",
        "from sklearn.model_selection import GridSearchCV\n",
        "\n",
        "import warnings\n",
        "warnings.filterwarnings('ignore')"
      ]
    },
    {
      "cell_type": "code",
      "source": [
        "data = pd.read_csv(\"/content/drive/MyDrive/UpGrad/train.csv\")"
      ],
      "metadata": {
        "id": "UKBx0ZBOQCS4"
      },
      "execution_count": 598,
      "outputs": []
    },
    {
      "cell_type": "code",
      "source": [
        "data.head()"
      ],
      "metadata": {
        "id": "wpQo6ea8Q6hd",
        "colab": {
          "base_uri": "https://localhost:8080/",
          "height": 300
        },
        "outputId": "0244b670-0e00-41b5-ca76-3d345e67a996"
      },
      "execution_count": 599,
      "outputs": [
        {
          "output_type": "execute_result",
          "data": {
            "text/html": [
              "\n",
              "  <div id=\"df-ffaa5630-832e-4b5d-a6a1-2e7764ec7743\">\n",
              "    <div class=\"colab-df-container\">\n",
              "      <div>\n",
              "<style scoped>\n",
              "    .dataframe tbody tr th:only-of-type {\n",
              "        vertical-align: middle;\n",
              "    }\n",
              "\n",
              "    .dataframe tbody tr th {\n",
              "        vertical-align: top;\n",
              "    }\n",
              "\n",
              "    .dataframe thead th {\n",
              "        text-align: right;\n",
              "    }\n",
              "</style>\n",
              "<table border=\"1\" class=\"dataframe\">\n",
              "  <thead>\n",
              "    <tr style=\"text-align: right;\">\n",
              "      <th></th>\n",
              "      <th>Id</th>\n",
              "      <th>MSSubClass</th>\n",
              "      <th>MSZoning</th>\n",
              "      <th>LotFrontage</th>\n",
              "      <th>LotArea</th>\n",
              "      <th>Street</th>\n",
              "      <th>Alley</th>\n",
              "      <th>LotShape</th>\n",
              "      <th>LandContour</th>\n",
              "      <th>Utilities</th>\n",
              "      <th>LotConfig</th>\n",
              "      <th>LandSlope</th>\n",
              "      <th>Neighborhood</th>\n",
              "      <th>Condition1</th>\n",
              "      <th>Condition2</th>\n",
              "      <th>BldgType</th>\n",
              "      <th>HouseStyle</th>\n",
              "      <th>OverallQual</th>\n",
              "      <th>OverallCond</th>\n",
              "      <th>YearBuilt</th>\n",
              "      <th>YearRemodAdd</th>\n",
              "      <th>RoofStyle</th>\n",
              "      <th>RoofMatl</th>\n",
              "      <th>Exterior1st</th>\n",
              "      <th>Exterior2nd</th>\n",
              "      <th>MasVnrType</th>\n",
              "      <th>MasVnrArea</th>\n",
              "      <th>ExterQual</th>\n",
              "      <th>ExterCond</th>\n",
              "      <th>Foundation</th>\n",
              "      <th>BsmtQual</th>\n",
              "      <th>BsmtCond</th>\n",
              "      <th>BsmtExposure</th>\n",
              "      <th>BsmtFinType1</th>\n",
              "      <th>BsmtFinSF1</th>\n",
              "      <th>BsmtFinType2</th>\n",
              "      <th>BsmtFinSF2</th>\n",
              "      <th>BsmtUnfSF</th>\n",
              "      <th>TotalBsmtSF</th>\n",
              "      <th>Heating</th>\n",
              "      <th>...</th>\n",
              "      <th>CentralAir</th>\n",
              "      <th>Electrical</th>\n",
              "      <th>1stFlrSF</th>\n",
              "      <th>2ndFlrSF</th>\n",
              "      <th>LowQualFinSF</th>\n",
              "      <th>GrLivArea</th>\n",
              "      <th>BsmtFullBath</th>\n",
              "      <th>BsmtHalfBath</th>\n",
              "      <th>FullBath</th>\n",
              "      <th>HalfBath</th>\n",
              "      <th>BedroomAbvGr</th>\n",
              "      <th>KitchenAbvGr</th>\n",
              "      <th>KitchenQual</th>\n",
              "      <th>TotRmsAbvGrd</th>\n",
              "      <th>Functional</th>\n",
              "      <th>Fireplaces</th>\n",
              "      <th>FireplaceQu</th>\n",
              "      <th>GarageType</th>\n",
              "      <th>GarageYrBlt</th>\n",
              "      <th>GarageFinish</th>\n",
              "      <th>GarageCars</th>\n",
              "      <th>GarageArea</th>\n",
              "      <th>GarageQual</th>\n",
              "      <th>GarageCond</th>\n",
              "      <th>PavedDrive</th>\n",
              "      <th>WoodDeckSF</th>\n",
              "      <th>OpenPorchSF</th>\n",
              "      <th>EnclosedPorch</th>\n",
              "      <th>3SsnPorch</th>\n",
              "      <th>ScreenPorch</th>\n",
              "      <th>PoolArea</th>\n",
              "      <th>PoolQC</th>\n",
              "      <th>Fence</th>\n",
              "      <th>MiscFeature</th>\n",
              "      <th>MiscVal</th>\n",
              "      <th>MoSold</th>\n",
              "      <th>YrSold</th>\n",
              "      <th>SaleType</th>\n",
              "      <th>SaleCondition</th>\n",
              "      <th>SalePrice</th>\n",
              "    </tr>\n",
              "  </thead>\n",
              "  <tbody>\n",
              "    <tr>\n",
              "      <th>0</th>\n",
              "      <td>1</td>\n",
              "      <td>60</td>\n",
              "      <td>RL</td>\n",
              "      <td>65.0</td>\n",
              "      <td>8450</td>\n",
              "      <td>Pave</td>\n",
              "      <td>NaN</td>\n",
              "      <td>Reg</td>\n",
              "      <td>Lvl</td>\n",
              "      <td>AllPub</td>\n",
              "      <td>Inside</td>\n",
              "      <td>Gtl</td>\n",
              "      <td>CollgCr</td>\n",
              "      <td>Norm</td>\n",
              "      <td>Norm</td>\n",
              "      <td>1Fam</td>\n",
              "      <td>2Story</td>\n",
              "      <td>7</td>\n",
              "      <td>5</td>\n",
              "      <td>2003</td>\n",
              "      <td>2003</td>\n",
              "      <td>Gable</td>\n",
              "      <td>CompShg</td>\n",
              "      <td>VinylSd</td>\n",
              "      <td>VinylSd</td>\n",
              "      <td>BrkFace</td>\n",
              "      <td>196.0</td>\n",
              "      <td>Gd</td>\n",
              "      <td>TA</td>\n",
              "      <td>PConc</td>\n",
              "      <td>Gd</td>\n",
              "      <td>TA</td>\n",
              "      <td>No</td>\n",
              "      <td>GLQ</td>\n",
              "      <td>706</td>\n",
              "      <td>Unf</td>\n",
              "      <td>0</td>\n",
              "      <td>150</td>\n",
              "      <td>856</td>\n",
              "      <td>GasA</td>\n",
              "      <td>...</td>\n",
              "      <td>Y</td>\n",
              "      <td>SBrkr</td>\n",
              "      <td>856</td>\n",
              "      <td>854</td>\n",
              "      <td>0</td>\n",
              "      <td>1710</td>\n",
              "      <td>1</td>\n",
              "      <td>0</td>\n",
              "      <td>2</td>\n",
              "      <td>1</td>\n",
              "      <td>3</td>\n",
              "      <td>1</td>\n",
              "      <td>Gd</td>\n",
              "      <td>8</td>\n",
              "      <td>Typ</td>\n",
              "      <td>0</td>\n",
              "      <td>NaN</td>\n",
              "      <td>Attchd</td>\n",
              "      <td>2003.0</td>\n",
              "      <td>RFn</td>\n",
              "      <td>2</td>\n",
              "      <td>548</td>\n",
              "      <td>TA</td>\n",
              "      <td>TA</td>\n",
              "      <td>Y</td>\n",
              "      <td>0</td>\n",
              "      <td>61</td>\n",
              "      <td>0</td>\n",
              "      <td>0</td>\n",
              "      <td>0</td>\n",
              "      <td>0</td>\n",
              "      <td>NaN</td>\n",
              "      <td>NaN</td>\n",
              "      <td>NaN</td>\n",
              "      <td>0</td>\n",
              "      <td>2</td>\n",
              "      <td>2008</td>\n",
              "      <td>WD</td>\n",
              "      <td>Normal</td>\n",
              "      <td>208500</td>\n",
              "    </tr>\n",
              "    <tr>\n",
              "      <th>1</th>\n",
              "      <td>2</td>\n",
              "      <td>20</td>\n",
              "      <td>RL</td>\n",
              "      <td>80.0</td>\n",
              "      <td>9600</td>\n",
              "      <td>Pave</td>\n",
              "      <td>NaN</td>\n",
              "      <td>Reg</td>\n",
              "      <td>Lvl</td>\n",
              "      <td>AllPub</td>\n",
              "      <td>FR2</td>\n",
              "      <td>Gtl</td>\n",
              "      <td>Veenker</td>\n",
              "      <td>Feedr</td>\n",
              "      <td>Norm</td>\n",
              "      <td>1Fam</td>\n",
              "      <td>1Story</td>\n",
              "      <td>6</td>\n",
              "      <td>8</td>\n",
              "      <td>1976</td>\n",
              "      <td>1976</td>\n",
              "      <td>Gable</td>\n",
              "      <td>CompShg</td>\n",
              "      <td>MetalSd</td>\n",
              "      <td>MetalSd</td>\n",
              "      <td>None</td>\n",
              "      <td>0.0</td>\n",
              "      <td>TA</td>\n",
              "      <td>TA</td>\n",
              "      <td>CBlock</td>\n",
              "      <td>Gd</td>\n",
              "      <td>TA</td>\n",
              "      <td>Gd</td>\n",
              "      <td>ALQ</td>\n",
              "      <td>978</td>\n",
              "      <td>Unf</td>\n",
              "      <td>0</td>\n",
              "      <td>284</td>\n",
              "      <td>1262</td>\n",
              "      <td>GasA</td>\n",
              "      <td>...</td>\n",
              "      <td>Y</td>\n",
              "      <td>SBrkr</td>\n",
              "      <td>1262</td>\n",
              "      <td>0</td>\n",
              "      <td>0</td>\n",
              "      <td>1262</td>\n",
              "      <td>0</td>\n",
              "      <td>1</td>\n",
              "      <td>2</td>\n",
              "      <td>0</td>\n",
              "      <td>3</td>\n",
              "      <td>1</td>\n",
              "      <td>TA</td>\n",
              "      <td>6</td>\n",
              "      <td>Typ</td>\n",
              "      <td>1</td>\n",
              "      <td>TA</td>\n",
              "      <td>Attchd</td>\n",
              "      <td>1976.0</td>\n",
              "      <td>RFn</td>\n",
              "      <td>2</td>\n",
              "      <td>460</td>\n",
              "      <td>TA</td>\n",
              "      <td>TA</td>\n",
              "      <td>Y</td>\n",
              "      <td>298</td>\n",
              "      <td>0</td>\n",
              "      <td>0</td>\n",
              "      <td>0</td>\n",
              "      <td>0</td>\n",
              "      <td>0</td>\n",
              "      <td>NaN</td>\n",
              "      <td>NaN</td>\n",
              "      <td>NaN</td>\n",
              "      <td>0</td>\n",
              "      <td>5</td>\n",
              "      <td>2007</td>\n",
              "      <td>WD</td>\n",
              "      <td>Normal</td>\n",
              "      <td>181500</td>\n",
              "    </tr>\n",
              "    <tr>\n",
              "      <th>2</th>\n",
              "      <td>3</td>\n",
              "      <td>60</td>\n",
              "      <td>RL</td>\n",
              "      <td>68.0</td>\n",
              "      <td>11250</td>\n",
              "      <td>Pave</td>\n",
              "      <td>NaN</td>\n",
              "      <td>IR1</td>\n",
              "      <td>Lvl</td>\n",
              "      <td>AllPub</td>\n",
              "      <td>Inside</td>\n",
              "      <td>Gtl</td>\n",
              "      <td>CollgCr</td>\n",
              "      <td>Norm</td>\n",
              "      <td>Norm</td>\n",
              "      <td>1Fam</td>\n",
              "      <td>2Story</td>\n",
              "      <td>7</td>\n",
              "      <td>5</td>\n",
              "      <td>2001</td>\n",
              "      <td>2002</td>\n",
              "      <td>Gable</td>\n",
              "      <td>CompShg</td>\n",
              "      <td>VinylSd</td>\n",
              "      <td>VinylSd</td>\n",
              "      <td>BrkFace</td>\n",
              "      <td>162.0</td>\n",
              "      <td>Gd</td>\n",
              "      <td>TA</td>\n",
              "      <td>PConc</td>\n",
              "      <td>Gd</td>\n",
              "      <td>TA</td>\n",
              "      <td>Mn</td>\n",
              "      <td>GLQ</td>\n",
              "      <td>486</td>\n",
              "      <td>Unf</td>\n",
              "      <td>0</td>\n",
              "      <td>434</td>\n",
              "      <td>920</td>\n",
              "      <td>GasA</td>\n",
              "      <td>...</td>\n",
              "      <td>Y</td>\n",
              "      <td>SBrkr</td>\n",
              "      <td>920</td>\n",
              "      <td>866</td>\n",
              "      <td>0</td>\n",
              "      <td>1786</td>\n",
              "      <td>1</td>\n",
              "      <td>0</td>\n",
              "      <td>2</td>\n",
              "      <td>1</td>\n",
              "      <td>3</td>\n",
              "      <td>1</td>\n",
              "      <td>Gd</td>\n",
              "      <td>6</td>\n",
              "      <td>Typ</td>\n",
              "      <td>1</td>\n",
              "      <td>TA</td>\n",
              "      <td>Attchd</td>\n",
              "      <td>2001.0</td>\n",
              "      <td>RFn</td>\n",
              "      <td>2</td>\n",
              "      <td>608</td>\n",
              "      <td>TA</td>\n",
              "      <td>TA</td>\n",
              "      <td>Y</td>\n",
              "      <td>0</td>\n",
              "      <td>42</td>\n",
              "      <td>0</td>\n",
              "      <td>0</td>\n",
              "      <td>0</td>\n",
              "      <td>0</td>\n",
              "      <td>NaN</td>\n",
              "      <td>NaN</td>\n",
              "      <td>NaN</td>\n",
              "      <td>0</td>\n",
              "      <td>9</td>\n",
              "      <td>2008</td>\n",
              "      <td>WD</td>\n",
              "      <td>Normal</td>\n",
              "      <td>223500</td>\n",
              "    </tr>\n",
              "    <tr>\n",
              "      <th>3</th>\n",
              "      <td>4</td>\n",
              "      <td>70</td>\n",
              "      <td>RL</td>\n",
              "      <td>60.0</td>\n",
              "      <td>9550</td>\n",
              "      <td>Pave</td>\n",
              "      <td>NaN</td>\n",
              "      <td>IR1</td>\n",
              "      <td>Lvl</td>\n",
              "      <td>AllPub</td>\n",
              "      <td>Corner</td>\n",
              "      <td>Gtl</td>\n",
              "      <td>Crawfor</td>\n",
              "      <td>Norm</td>\n",
              "      <td>Norm</td>\n",
              "      <td>1Fam</td>\n",
              "      <td>2Story</td>\n",
              "      <td>7</td>\n",
              "      <td>5</td>\n",
              "      <td>1915</td>\n",
              "      <td>1970</td>\n",
              "      <td>Gable</td>\n",
              "      <td>CompShg</td>\n",
              "      <td>Wd Sdng</td>\n",
              "      <td>Wd Shng</td>\n",
              "      <td>None</td>\n",
              "      <td>0.0</td>\n",
              "      <td>TA</td>\n",
              "      <td>TA</td>\n",
              "      <td>BrkTil</td>\n",
              "      <td>TA</td>\n",
              "      <td>Gd</td>\n",
              "      <td>No</td>\n",
              "      <td>ALQ</td>\n",
              "      <td>216</td>\n",
              "      <td>Unf</td>\n",
              "      <td>0</td>\n",
              "      <td>540</td>\n",
              "      <td>756</td>\n",
              "      <td>GasA</td>\n",
              "      <td>...</td>\n",
              "      <td>Y</td>\n",
              "      <td>SBrkr</td>\n",
              "      <td>961</td>\n",
              "      <td>756</td>\n",
              "      <td>0</td>\n",
              "      <td>1717</td>\n",
              "      <td>1</td>\n",
              "      <td>0</td>\n",
              "      <td>1</td>\n",
              "      <td>0</td>\n",
              "      <td>3</td>\n",
              "      <td>1</td>\n",
              "      <td>Gd</td>\n",
              "      <td>7</td>\n",
              "      <td>Typ</td>\n",
              "      <td>1</td>\n",
              "      <td>Gd</td>\n",
              "      <td>Detchd</td>\n",
              "      <td>1998.0</td>\n",
              "      <td>Unf</td>\n",
              "      <td>3</td>\n",
              "      <td>642</td>\n",
              "      <td>TA</td>\n",
              "      <td>TA</td>\n",
              "      <td>Y</td>\n",
              "      <td>0</td>\n",
              "      <td>35</td>\n",
              "      <td>272</td>\n",
              "      <td>0</td>\n",
              "      <td>0</td>\n",
              "      <td>0</td>\n",
              "      <td>NaN</td>\n",
              "      <td>NaN</td>\n",
              "      <td>NaN</td>\n",
              "      <td>0</td>\n",
              "      <td>2</td>\n",
              "      <td>2006</td>\n",
              "      <td>WD</td>\n",
              "      <td>Abnorml</td>\n",
              "      <td>140000</td>\n",
              "    </tr>\n",
              "    <tr>\n",
              "      <th>4</th>\n",
              "      <td>5</td>\n",
              "      <td>60</td>\n",
              "      <td>RL</td>\n",
              "      <td>84.0</td>\n",
              "      <td>14260</td>\n",
              "      <td>Pave</td>\n",
              "      <td>NaN</td>\n",
              "      <td>IR1</td>\n",
              "      <td>Lvl</td>\n",
              "      <td>AllPub</td>\n",
              "      <td>FR2</td>\n",
              "      <td>Gtl</td>\n",
              "      <td>NoRidge</td>\n",
              "      <td>Norm</td>\n",
              "      <td>Norm</td>\n",
              "      <td>1Fam</td>\n",
              "      <td>2Story</td>\n",
              "      <td>8</td>\n",
              "      <td>5</td>\n",
              "      <td>2000</td>\n",
              "      <td>2000</td>\n",
              "      <td>Gable</td>\n",
              "      <td>CompShg</td>\n",
              "      <td>VinylSd</td>\n",
              "      <td>VinylSd</td>\n",
              "      <td>BrkFace</td>\n",
              "      <td>350.0</td>\n",
              "      <td>Gd</td>\n",
              "      <td>TA</td>\n",
              "      <td>PConc</td>\n",
              "      <td>Gd</td>\n",
              "      <td>TA</td>\n",
              "      <td>Av</td>\n",
              "      <td>GLQ</td>\n",
              "      <td>655</td>\n",
              "      <td>Unf</td>\n",
              "      <td>0</td>\n",
              "      <td>490</td>\n",
              "      <td>1145</td>\n",
              "      <td>GasA</td>\n",
              "      <td>...</td>\n",
              "      <td>Y</td>\n",
              "      <td>SBrkr</td>\n",
              "      <td>1145</td>\n",
              "      <td>1053</td>\n",
              "      <td>0</td>\n",
              "      <td>2198</td>\n",
              "      <td>1</td>\n",
              "      <td>0</td>\n",
              "      <td>2</td>\n",
              "      <td>1</td>\n",
              "      <td>4</td>\n",
              "      <td>1</td>\n",
              "      <td>Gd</td>\n",
              "      <td>9</td>\n",
              "      <td>Typ</td>\n",
              "      <td>1</td>\n",
              "      <td>TA</td>\n",
              "      <td>Attchd</td>\n",
              "      <td>2000.0</td>\n",
              "      <td>RFn</td>\n",
              "      <td>3</td>\n",
              "      <td>836</td>\n",
              "      <td>TA</td>\n",
              "      <td>TA</td>\n",
              "      <td>Y</td>\n",
              "      <td>192</td>\n",
              "      <td>84</td>\n",
              "      <td>0</td>\n",
              "      <td>0</td>\n",
              "      <td>0</td>\n",
              "      <td>0</td>\n",
              "      <td>NaN</td>\n",
              "      <td>NaN</td>\n",
              "      <td>NaN</td>\n",
              "      <td>0</td>\n",
              "      <td>12</td>\n",
              "      <td>2008</td>\n",
              "      <td>WD</td>\n",
              "      <td>Normal</td>\n",
              "      <td>250000</td>\n",
              "    </tr>\n",
              "  </tbody>\n",
              "</table>\n",
              "<p>5 rows × 81 columns</p>\n",
              "</div>\n",
              "      <button class=\"colab-df-convert\" onclick=\"convertToInteractive('df-ffaa5630-832e-4b5d-a6a1-2e7764ec7743')\"\n",
              "              title=\"Convert this dataframe to an interactive table.\"\n",
              "              style=\"display:none;\">\n",
              "        \n",
              "  <svg xmlns=\"http://www.w3.org/2000/svg\" height=\"24px\"viewBox=\"0 0 24 24\"\n",
              "       width=\"24px\">\n",
              "    <path d=\"M0 0h24v24H0V0z\" fill=\"none\"/>\n",
              "    <path d=\"M18.56 5.44l.94 2.06.94-2.06 2.06-.94-2.06-.94-.94-2.06-.94 2.06-2.06.94zm-11 1L8.5 8.5l.94-2.06 2.06-.94-2.06-.94L8.5 2.5l-.94 2.06-2.06.94zm10 10l.94 2.06.94-2.06 2.06-.94-2.06-.94-.94-2.06-.94 2.06-2.06.94z\"/><path d=\"M17.41 7.96l-1.37-1.37c-.4-.4-.92-.59-1.43-.59-.52 0-1.04.2-1.43.59L10.3 9.45l-7.72 7.72c-.78.78-.78 2.05 0 2.83L4 21.41c.39.39.9.59 1.41.59.51 0 1.02-.2 1.41-.59l7.78-7.78 2.81-2.81c.8-.78.8-2.07 0-2.86zM5.41 20L4 18.59l7.72-7.72 1.47 1.35L5.41 20z\"/>\n",
              "  </svg>\n",
              "      </button>\n",
              "      \n",
              "  <style>\n",
              "    .colab-df-container {\n",
              "      display:flex;\n",
              "      flex-wrap:wrap;\n",
              "      gap: 12px;\n",
              "    }\n",
              "\n",
              "    .colab-df-convert {\n",
              "      background-color: #E8F0FE;\n",
              "      border: none;\n",
              "      border-radius: 50%;\n",
              "      cursor: pointer;\n",
              "      display: none;\n",
              "      fill: #1967D2;\n",
              "      height: 32px;\n",
              "      padding: 0 0 0 0;\n",
              "      width: 32px;\n",
              "    }\n",
              "\n",
              "    .colab-df-convert:hover {\n",
              "      background-color: #E2EBFA;\n",
              "      box-shadow: 0px 1px 2px rgba(60, 64, 67, 0.3), 0px 1px 3px 1px rgba(60, 64, 67, 0.15);\n",
              "      fill: #174EA6;\n",
              "    }\n",
              "\n",
              "    [theme=dark] .colab-df-convert {\n",
              "      background-color: #3B4455;\n",
              "      fill: #D2E3FC;\n",
              "    }\n",
              "\n",
              "    [theme=dark] .colab-df-convert:hover {\n",
              "      background-color: #434B5C;\n",
              "      box-shadow: 0px 1px 3px 1px rgba(0, 0, 0, 0.15);\n",
              "      filter: drop-shadow(0px 1px 2px rgba(0, 0, 0, 0.3));\n",
              "      fill: #FFFFFF;\n",
              "    }\n",
              "  </style>\n",
              "\n",
              "      <script>\n",
              "        const buttonEl =\n",
              "          document.querySelector('#df-ffaa5630-832e-4b5d-a6a1-2e7764ec7743 button.colab-df-convert');\n",
              "        buttonEl.style.display =\n",
              "          google.colab.kernel.accessAllowed ? 'block' : 'none';\n",
              "\n",
              "        async function convertToInteractive(key) {\n",
              "          const element = document.querySelector('#df-ffaa5630-832e-4b5d-a6a1-2e7764ec7743');\n",
              "          const dataTable =\n",
              "            await google.colab.kernel.invokeFunction('convertToInteractive',\n",
              "                                                     [key], {});\n",
              "          if (!dataTable) return;\n",
              "\n",
              "          const docLinkHtml = 'Like what you see? Visit the ' +\n",
              "            '<a target=\"_blank\" href=https://colab.research.google.com/notebooks/data_table.ipynb>data table notebook</a>'\n",
              "            + ' to learn more about interactive tables.';\n",
              "          element.innerHTML = '';\n",
              "          dataTable['output_type'] = 'display_data';\n",
              "          await google.colab.output.renderOutput(dataTable, element);\n",
              "          const docLink = document.createElement('div');\n",
              "          docLink.innerHTML = docLinkHtml;\n",
              "          element.appendChild(docLink);\n",
              "        }\n",
              "      </script>\n",
              "    </div>\n",
              "  </div>\n",
              "  "
            ],
            "text/plain": [
              "   Id  MSSubClass MSZoning  ...  SaleType  SaleCondition SalePrice\n",
              "0   1          60       RL  ...        WD         Normal    208500\n",
              "1   2          20       RL  ...        WD         Normal    181500\n",
              "2   3          60       RL  ...        WD         Normal    223500\n",
              "3   4          70       RL  ...        WD        Abnorml    140000\n",
              "4   5          60       RL  ...        WD         Normal    250000\n",
              "\n",
              "[5 rows x 81 columns]"
            ]
          },
          "metadata": {},
          "execution_count": 599
        }
      ]
    },
    {
      "cell_type": "code",
      "source": [
        "data.shape"
      ],
      "metadata": {
        "id": "NZPkCo3hRFJV",
        "colab": {
          "base_uri": "https://localhost:8080/"
        },
        "outputId": "e5f49c7e-05b7-47a5-ea3c-a8b7afed6ee2"
      },
      "execution_count": 600,
      "outputs": [
        {
          "output_type": "execute_result",
          "data": {
            "text/plain": [
              "(1460, 81)"
            ]
          },
          "metadata": {},
          "execution_count": 600
        }
      ]
    },
    {
      "cell_type": "code",
      "source": [
        "data.isnull().sum()"
      ],
      "metadata": {
        "id": "4nSvyvxpRN-N",
        "colab": {
          "base_uri": "https://localhost:8080/"
        },
        "outputId": "14ed59c6-4cb6-4225-c953-b636f5ca9340"
      },
      "execution_count": 601,
      "outputs": [
        {
          "output_type": "execute_result",
          "data": {
            "text/plain": [
              "Id                 0\n",
              "MSSubClass         0\n",
              "MSZoning           0\n",
              "LotFrontage      259\n",
              "LotArea            0\n",
              "                ... \n",
              "MoSold             0\n",
              "YrSold             0\n",
              "SaleType           0\n",
              "SaleCondition      0\n",
              "SalePrice          0\n",
              "Length: 81, dtype: int64"
            ]
          },
          "metadata": {},
          "execution_count": 601
        }
      ]
    },
    {
      "cell_type": "code",
      "source": [
        "data.info()"
      ],
      "metadata": {
        "id": "DMb5szOwRkpz",
        "colab": {
          "base_uri": "https://localhost:8080/"
        },
        "outputId": "d5d8b4fc-d3d6-4bf1-d5c1-8989b9dd3a26"
      },
      "execution_count": 602,
      "outputs": [
        {
          "output_type": "stream",
          "name": "stdout",
          "text": [
            "<class 'pandas.core.frame.DataFrame'>\n",
            "RangeIndex: 1460 entries, 0 to 1459\n",
            "Data columns (total 81 columns):\n",
            " #   Column         Non-Null Count  Dtype  \n",
            "---  ------         --------------  -----  \n",
            " 0   Id             1460 non-null   int64  \n",
            " 1   MSSubClass     1460 non-null   int64  \n",
            " 2   MSZoning       1460 non-null   object \n",
            " 3   LotFrontage    1201 non-null   float64\n",
            " 4   LotArea        1460 non-null   int64  \n",
            " 5   Street         1460 non-null   object \n",
            " 6   Alley          91 non-null     object \n",
            " 7   LotShape       1460 non-null   object \n",
            " 8   LandContour    1460 non-null   object \n",
            " 9   Utilities      1460 non-null   object \n",
            " 10  LotConfig      1460 non-null   object \n",
            " 11  LandSlope      1460 non-null   object \n",
            " 12  Neighborhood   1460 non-null   object \n",
            " 13  Condition1     1460 non-null   object \n",
            " 14  Condition2     1460 non-null   object \n",
            " 15  BldgType       1460 non-null   object \n",
            " 16  HouseStyle     1460 non-null   object \n",
            " 17  OverallQual    1460 non-null   int64  \n",
            " 18  OverallCond    1460 non-null   int64  \n",
            " 19  YearBuilt      1460 non-null   int64  \n",
            " 20  YearRemodAdd   1460 non-null   int64  \n",
            " 21  RoofStyle      1460 non-null   object \n",
            " 22  RoofMatl       1460 non-null   object \n",
            " 23  Exterior1st    1460 non-null   object \n",
            " 24  Exterior2nd    1460 non-null   object \n",
            " 25  MasVnrType     1452 non-null   object \n",
            " 26  MasVnrArea     1452 non-null   float64\n",
            " 27  ExterQual      1460 non-null   object \n",
            " 28  ExterCond      1460 non-null   object \n",
            " 29  Foundation     1460 non-null   object \n",
            " 30  BsmtQual       1423 non-null   object \n",
            " 31  BsmtCond       1423 non-null   object \n",
            " 32  BsmtExposure   1422 non-null   object \n",
            " 33  BsmtFinType1   1423 non-null   object \n",
            " 34  BsmtFinSF1     1460 non-null   int64  \n",
            " 35  BsmtFinType2   1422 non-null   object \n",
            " 36  BsmtFinSF2     1460 non-null   int64  \n",
            " 37  BsmtUnfSF      1460 non-null   int64  \n",
            " 38  TotalBsmtSF    1460 non-null   int64  \n",
            " 39  Heating        1460 non-null   object \n",
            " 40  HeatingQC      1460 non-null   object \n",
            " 41  CentralAir     1460 non-null   object \n",
            " 42  Electrical     1459 non-null   object \n",
            " 43  1stFlrSF       1460 non-null   int64  \n",
            " 44  2ndFlrSF       1460 non-null   int64  \n",
            " 45  LowQualFinSF   1460 non-null   int64  \n",
            " 46  GrLivArea      1460 non-null   int64  \n",
            " 47  BsmtFullBath   1460 non-null   int64  \n",
            " 48  BsmtHalfBath   1460 non-null   int64  \n",
            " 49  FullBath       1460 non-null   int64  \n",
            " 50  HalfBath       1460 non-null   int64  \n",
            " 51  BedroomAbvGr   1460 non-null   int64  \n",
            " 52  KitchenAbvGr   1460 non-null   int64  \n",
            " 53  KitchenQual    1460 non-null   object \n",
            " 54  TotRmsAbvGrd   1460 non-null   int64  \n",
            " 55  Functional     1460 non-null   object \n",
            " 56  Fireplaces     1460 non-null   int64  \n",
            " 57  FireplaceQu    770 non-null    object \n",
            " 58  GarageType     1379 non-null   object \n",
            " 59  GarageYrBlt    1379 non-null   float64\n",
            " 60  GarageFinish   1379 non-null   object \n",
            " 61  GarageCars     1460 non-null   int64  \n",
            " 62  GarageArea     1460 non-null   int64  \n",
            " 63  GarageQual     1379 non-null   object \n",
            " 64  GarageCond     1379 non-null   object \n",
            " 65  PavedDrive     1460 non-null   object \n",
            " 66  WoodDeckSF     1460 non-null   int64  \n",
            " 67  OpenPorchSF    1460 non-null   int64  \n",
            " 68  EnclosedPorch  1460 non-null   int64  \n",
            " 69  3SsnPorch      1460 non-null   int64  \n",
            " 70  ScreenPorch    1460 non-null   int64  \n",
            " 71  PoolArea       1460 non-null   int64  \n",
            " 72  PoolQC         7 non-null      object \n",
            " 73  Fence          281 non-null    object \n",
            " 74  MiscFeature    54 non-null     object \n",
            " 75  MiscVal        1460 non-null   int64  \n",
            " 76  MoSold         1460 non-null   int64  \n",
            " 77  YrSold         1460 non-null   int64  \n",
            " 78  SaleType       1460 non-null   object \n",
            " 79  SaleCondition  1460 non-null   object \n",
            " 80  SalePrice      1460 non-null   int64  \n",
            "dtypes: float64(3), int64(35), object(43)\n",
            "memory usage: 924.0+ KB\n"
          ]
        }
      ]
    },
    {
      "cell_type": "code",
      "source": [
        "# Checking the percentage of missing values\n",
        "round(100*(data.isnull().sum()/len(data.index)), 2)"
      ],
      "metadata": {
        "id": "Ku_NVeCZR3Ra",
        "colab": {
          "base_uri": "https://localhost:8080/"
        },
        "outputId": "5bd4c993-cc81-4343-d1e5-25cfce865f0f"
      },
      "execution_count": 603,
      "outputs": [
        {
          "output_type": "execute_result",
          "data": {
            "text/plain": [
              "Id                0.00\n",
              "MSSubClass        0.00\n",
              "MSZoning          0.00\n",
              "LotFrontage      17.74\n",
              "LotArea           0.00\n",
              "                 ...  \n",
              "MoSold            0.00\n",
              "YrSold            0.00\n",
              "SaleType          0.00\n",
              "SaleCondition     0.00\n",
              "SalePrice         0.00\n",
              "Length: 81, dtype: float64"
            ]
          },
          "metadata": {},
          "execution_count": 603
        }
      ]
    },
    {
      "cell_type": "code",
      "source": [
        "nullablecols = data.columns[data.isna().any()].tolist()\n",
        "nullablecols"
      ],
      "metadata": {
        "id": "3kdf2kB7SDhm",
        "colab": {
          "base_uri": "https://localhost:8080/"
        },
        "outputId": "a4444859-c46b-4b00-971f-3e7cc59d8f6a"
      },
      "execution_count": 604,
      "outputs": [
        {
          "output_type": "execute_result",
          "data": {
            "text/plain": [
              "['LotFrontage',\n",
              " 'Alley',\n",
              " 'MasVnrType',\n",
              " 'MasVnrArea',\n",
              " 'BsmtQual',\n",
              " 'BsmtCond',\n",
              " 'BsmtExposure',\n",
              " 'BsmtFinType1',\n",
              " 'BsmtFinType2',\n",
              " 'Electrical',\n",
              " 'FireplaceQu',\n",
              " 'GarageType',\n",
              " 'GarageYrBlt',\n",
              " 'GarageFinish',\n",
              " 'GarageQual',\n",
              " 'GarageCond',\n",
              " 'PoolQC',\n",
              " 'Fence',\n",
              " 'MiscFeature']"
            ]
          },
          "metadata": {},
          "execution_count": 604
        }
      ]
    },
    {
      "cell_type": "code",
      "source": [
        "nullablepercentages = round(100*(data[nullablecols].isnull().sum()/len(data[nullablecols].index)), 2)\n",
        "nullablepercentages"
      ],
      "metadata": {
        "id": "TxgqWDMXS3NL",
        "colab": {
          "base_uri": "https://localhost:8080/"
        },
        "outputId": "87d00103-a0c3-4351-e83b-addbe3801c5b"
      },
      "execution_count": 605,
      "outputs": [
        {
          "output_type": "execute_result",
          "data": {
            "text/plain": [
              "LotFrontage     17.74\n",
              "Alley           93.77\n",
              "MasVnrType       0.55\n",
              "MasVnrArea       0.55\n",
              "BsmtQual         2.53\n",
              "BsmtCond         2.53\n",
              "BsmtExposure     2.60\n",
              "BsmtFinType1     2.53\n",
              "BsmtFinType2     2.60\n",
              "Electrical       0.07\n",
              "FireplaceQu     47.26\n",
              "GarageType       5.55\n",
              "GarageYrBlt      5.55\n",
              "GarageFinish     5.55\n",
              "GarageQual       5.55\n",
              "GarageCond       5.55\n",
              "PoolQC          99.52\n",
              "Fence           80.75\n",
              "MiscFeature     96.30\n",
              "dtype: float64"
            ]
          },
          "metadata": {},
          "execution_count": 605
        }
      ]
    },
    {
      "cell_type": "code",
      "source": [
        "# dropping columns with lot of missing values\n",
        "colswithmissingvalues = ['Alley', 'FireplaceQu','PoolQC','Fence','MiscFeature']"
      ],
      "metadata": {
        "id": "4MBYSX4PTAy0"
      },
      "execution_count": 606,
      "outputs": []
    },
    {
      "cell_type": "code",
      "source": [
        "# Drop instant and dteday columns since they are all unique values\n",
        "data.drop(colswithmissingvalues, axis = 1, inplace=True)\n"
      ],
      "metadata": {
        "id": "zGmpxF-ETDF4"
      },
      "execution_count": 607,
      "outputs": []
    },
    {
      "cell_type": "code",
      "source": [
        "#drop id since its all unique values\n",
        "data.drop(['Id'], axis = 1, inplace=True)"
      ],
      "metadata": {
        "id": "0WKq1Pq5Qc_u"
      },
      "execution_count": 608,
      "outputs": []
    },
    {
      "cell_type": "code",
      "source": [
        "#find columns which do not have enough distribution/variation of values\n",
        "catcolumns = ['MSSubClass','MSZoning','Street','LotShape','LandContour','Utilities','LotConfig','LandSlope',\n",
        "              'Condition1','Condition2','BldgType','HouseStyle','OverallQual','OverallCond','RoofStyle','RoofMatl',\n",
        "              'Exterior1st','Exterior2nd','MasVnrType','ExterQual','ExterCond','Foundation',\n",
        "              'BsmtQual','BsmtCond','BsmtExposure','BsmtFinType1','BsmtFinType2','BsmtFinSF2','Heating',\n",
        "              'HeatingQC','CentralAir','Electrical','KitchenQual','Functional','GarageType', \n",
        "              'GarageFinish','GarageQual','GarageCond','PavedDrive','SaleType','SaleCondition','YrSold','YearBuilt','YearRemodAdd','GarageYrBlt']\n",
        "valuecounts = data[catcolumns].apply(lambda x: x.value_counts(normalize=True)).T.stack()\n",
        "nonvariantcols = valuecounts.loc[lambda x: x > .80]\n",
        "nonvariantcols"
      ],
      "metadata": {
        "id": "WY3gjbABVps4",
        "colab": {
          "base_uri": "https://localhost:8080/"
        },
        "outputId": "ffbfe0d7-f95a-48c1-f68b-6d844a063162"
      },
      "execution_count": 609,
      "outputs": [
        {
          "output_type": "execute_result",
          "data": {
            "text/plain": [
              "Street         Pave       0.995890\n",
              "LandContour    Lvl        0.897945\n",
              "Utilities      AllPub     0.999315\n",
              "LandSlope      Gtl        0.946575\n",
              "Condition1     Norm       0.863014\n",
              "Condition2     Norm       0.989726\n",
              "BldgType       1Fam       0.835616\n",
              "RoofMatl       CompShg    0.982192\n",
              "ExterCond      TA         0.878082\n",
              "BsmtCond       TA         0.921293\n",
              "BsmtFinType2   Unf        0.883263\n",
              "BsmtFinSF2     0          0.885616\n",
              "Heating        GasA       0.978082\n",
              "CentralAir     Y          0.934932\n",
              "Electrical     SBrkr      0.914325\n",
              "Functional     Typ        0.931507\n",
              "GarageQual     TA         0.950689\n",
              "GarageCond     TA         0.961566\n",
              "PavedDrive     Y          0.917808\n",
              "SaleType       WD         0.867808\n",
              "SaleCondition  Normal     0.820548\n",
              "dtype: float64"
            ]
          },
          "metadata": {},
          "execution_count": 609
        }
      ]
    },
    {
      "cell_type": "code",
      "source": [
        "nonvariantcolstodelete = ['Street',\n",
        "'LandContour',\n",
        "'Utilities',\n",
        "'LandSlope',\n",
        "'Condition1',\n",
        "'Condition2',\n",
        "'BldgType',\n",
        "'RoofMatl',\n",
        "'ExterCond',\n",
        "'BsmtCond',\n",
        "'BsmtFinType2',\n",
        "'BsmtFinSF2',\n",
        "'Heating',\n",
        "'CentralAir',\n",
        "'Electrical',\n",
        "'Functional',\n",
        "'GarageQual',\n",
        "'GarageCond',\n",
        "'PavedDrive',\n",
        "'SaleType',\n",
        "'SaleCondition']"
      ],
      "metadata": {
        "id": "KRMmStqIbjek"
      },
      "execution_count": 610,
      "outputs": []
    },
    {
      "cell_type": "code",
      "source": [
        "# dropping columns with lot of missing values\n",
        "data.drop(nonvariantcolstodelete, axis = 1, inplace=True)"
      ],
      "metadata": {
        "id": "oqDHE1efdC9s"
      },
      "execution_count": 611,
      "outputs": []
    },
    {
      "cell_type": "code",
      "source": [
        "# drop neighborhood column\n",
        "data.drop(['Neighborhood'],axis=1,inplace=True)"
      ],
      "metadata": {
        "id": "SqScaKhfEePR"
      },
      "execution_count": 612,
      "outputs": []
    },
    {
      "cell_type": "code",
      "source": [
        "catcolumns = list(set(catcolumns)-set(nonvariantcolstodelete)-set(colswithmissingvalues))\n",
        "catcolumns"
      ],
      "metadata": {
        "id": "xgufzQh6dMR7",
        "colab": {
          "base_uri": "https://localhost:8080/"
        },
        "outputId": "e1bcaa7a-c8ca-497f-d866-aa20c21adb2b"
      },
      "execution_count": 613,
      "outputs": [
        {
          "output_type": "execute_result",
          "data": {
            "text/plain": [
              "['GarageFinish',\n",
              " 'YearRemodAdd',\n",
              " 'Foundation',\n",
              " 'Exterior1st',\n",
              " 'LotConfig',\n",
              " 'KitchenQual',\n",
              " 'MasVnrType',\n",
              " 'LotShape',\n",
              " 'GarageYrBlt',\n",
              " 'OverallCond',\n",
              " 'YrSold',\n",
              " 'MSZoning',\n",
              " 'BsmtExposure',\n",
              " 'HeatingQC',\n",
              " 'YearBuilt',\n",
              " 'MSSubClass',\n",
              " 'BsmtQual',\n",
              " 'Exterior2nd',\n",
              " 'OverallQual',\n",
              " 'GarageType',\n",
              " 'BsmtFinType1',\n",
              " 'RoofStyle',\n",
              " 'HouseStyle',\n",
              " 'ExterQual']"
            ]
          },
          "metadata": {},
          "execution_count": 613
        }
      ]
    },
    {
      "cell_type": "markdown",
      "source": [
        "### Replace NA,None with NA"
      ],
      "metadata": {
        "id": "f6JhB58rkDEs"
      }
    },
    {
      "cell_type": "code",
      "source": [
        "def fixInvalidStringsWithNA(df,columns):\n",
        "    for column in columns:\n",
        "        df[column] = df[column].fillna('NA')\n",
        "        df[column] = df[column].fillna('None')\n",
        "    return df\n",
        "\n",
        "dna = fixInvalidStringsWithNA(data, ['GarageFinish','MasVnrType'])"
      ],
      "metadata": {
        "id": "jHe-kb_SlIft"
      },
      "execution_count": 614,
      "outputs": []
    },
    {
      "cell_type": "markdown",
      "source": [
        "### Replace NA with Median\n"
      ],
      "metadata": {
        "id": "uFRqIR77j-Wk"
      }
    },
    {
      "cell_type": "code",
      "source": [
        "nan_values = data.isna()\n",
        "nan_columns = nan_values.any()\n",
        "\n",
        "\n",
        "columns_with_nan = data.columns[nan_columns].tolist()\n",
        "#print(columns_with_nan)\n",
        "numeric_nan_columns = set(columns_with_nan) -  set(catcolumns)\n",
        "#print(numeric_nan_columns)\n",
        "cat_nan_columns = set(columns_with_nan) - set(numeric_nan_columns)\n",
        "numeric_columns = set(data.columns.tolist()) - set(catcolumns)\n",
        "\n",
        "numeric_columns_list = list(numeric_columns)\n",
        "\n",
        "#data[numeric_nan_columns] = data[numeric_nan_columns].apply(lambda x: x.fillna(x.median()))"
      ],
      "metadata": {
        "id": "-tMVZextl5E7"
      },
      "execution_count": 615,
      "outputs": []
    },
    {
      "cell_type": "code",
      "source": [
        "numeric_nan_columns"
      ],
      "metadata": {
        "colab": {
          "base_uri": "https://localhost:8080/"
        },
        "id": "7ChU93dBmX4j",
        "outputId": "4017426c-90f9-4925-f046-26357d3f983f"
      },
      "execution_count": 616,
      "outputs": [
        {
          "output_type": "execute_result",
          "data": {
            "text/plain": [
              "{'LotFrontage', 'MasVnrArea'}"
            ]
          },
          "metadata": {},
          "execution_count": 616
        }
      ]
    },
    {
      "cell_type": "code",
      "source": [
        "data['GarageFinish']"
      ],
      "metadata": {
        "colab": {
          "base_uri": "https://localhost:8080/"
        },
        "id": "A9S2t45lmepF",
        "outputId": "260836dd-3c19-4590-80ab-4283ec6f4b6e"
      },
      "execution_count": 617,
      "outputs": [
        {
          "output_type": "execute_result",
          "data": {
            "text/plain": [
              "0       RFn\n",
              "1       RFn\n",
              "2       RFn\n",
              "3       Unf\n",
              "4       RFn\n",
              "       ... \n",
              "1455    RFn\n",
              "1456    Unf\n",
              "1457    RFn\n",
              "1458    Unf\n",
              "1459    Fin\n",
              "Name: GarageFinish, Length: 1460, dtype: object"
            ]
          },
          "metadata": {},
          "execution_count": 617
        }
      ]
    },
    {
      "cell_type": "code",
      "source": [
        "def replaceNAWithMedian(df, columns):\n",
        "  df = df.apply(lambda x: x.fillna(x.median()) if x.name in columns else x)\n",
        "  return df\n",
        "\n",
        "data = replaceNAWithMedian(data, numeric_nan_columns)"
      ],
      "metadata": {
        "id": "kgMJmInfQ94n"
      },
      "execution_count": 618,
      "outputs": []
    },
    {
      "cell_type": "markdown",
      "source": [
        "##Visualising Categorical Variables"
      ],
      "metadata": {
        "id": "xDlm50DZSm7m"
      }
    },
    {
      "cell_type": "code",
      "source": [
        "def divide_chunks(l, n):\n",
        "    for i in range(0, len(l), n): \n",
        "        yield l[i:i + n]"
      ],
      "metadata": {
        "id": "36kiQVKxTkLW"
      },
      "execution_count": 619,
      "outputs": []
    },
    {
      "cell_type": "code",
      "source": [
        "def drawBoxPlot(df, columns):\n",
        "  collist = divide_chunks(columns, 16)\n",
        "  for cols in collist:\n",
        "    plt.figure(figsize=(30,20))\n",
        "    for index, item in enumerate(cols, start=1):\n",
        "      plt.subplot(4,4,index)\n",
        "      sns.boxplot(x = item, y = 'SalePrice', data = df)"
      ],
      "metadata": {
        "id": "5zLR8QwdS7bC"
      },
      "execution_count": 620,
      "outputs": []
    },
    {
      "cell_type": "code",
      "source": [
        "#check few categories to see any outliers\n",
        "drawBoxPlot(data, catcolumns)"
      ],
      "metadata": {
        "colab": {
          "base_uri": "https://localhost:8080/",
          "height": 1000
        },
        "id": "NysY9FUARzN3",
        "outputId": "97ef8c12-6047-4936-9846-15439b2e295d"
      },
      "execution_count": 621,
      "outputs": [
        {
          "output_type": "display_data",
          "data": {
            "image/png": "[encoded data removed]",
            "text/plain": [
              "<Figure size 2160x1440 with 16 Axes>"
            ]
          },
          "metadata": {
            "needs_background": "light"
          }
        },
        {
          "output_type": "display_data",
          "data": {
            "image/png": "[encoded data removed]",
            "text/plain": [
              "<Figure size 2160x1440 with 8 Axes>"
            ]
          },
          "metadata": {
            "needs_background": "light"
          }
        }
      ]
    },
    {
      "cell_type": "code",
      "source": [
        "def drawHistogram(df, column):\n",
        "  # An \"interface\" to matplotlib.axes.Axes.hist() method\n",
        "  n, bins, patches = plt.hist(x=df[column], bins='auto', color='#0504aa',\n",
        "                              alpha=0.7, rwidth=0.85)\n",
        "  plt.grid(axis='y', alpha=0.75)\n",
        "  plt.xlabel(column)\n",
        "  plt.ylabel('Count')\n",
        "  maxfreq = n.max()\n",
        "  # Set a clean upper y-axis limit.\n",
        "  plt.ylim(ymax=np.ceil(maxfreq / 10) * 10 if maxfreq % 10 else maxfreq + 10)\n",
        "  plt.show()"
      ],
      "metadata": {
        "id": "XRZu3VxzbKVo"
      },
      "execution_count": 622,
      "outputs": []
    },
    {
      "cell_type": "code",
      "source": [
        "def printUniqueValues(df, columns):\n",
        "  for col in columns:\n",
        "    print(df[col].unique)"
      ],
      "metadata": {
        "id": "YDH8BpNxcVpa"
      },
      "execution_count": 623,
      "outputs": []
    },
    {
      "cell_type": "code",
      "source": [
        "yearcolumns = ['YrSold','YearBuilt','YearRemodAdd','GarageYrBlt']\n",
        "for col in yearcolumns:\n",
        "  drawHistogram(data, col)"
      ],
      "metadata": {
        "colab": {
          "base_uri": "https://localhost:8080/",
          "height": 1000
        },
        "id": "alqeJUJQbw1C",
        "outputId": "e36cf1b7-5cb8-4268-e486-b03a02c6b04c"
      },
      "execution_count": 624,
      "outputs": [
        {
          "output_type": "display_data",
          "data": {
            "image/png": "[encoded data removed]",
            "text/plain": [
              "<Figure size 432x288 with 1 Axes>"
            ]
          },
          "metadata": {
            "needs_background": "light"
          }
        },
        {
          "output_type": "display_data",
          "data": {
            "image/png": "[encoded data removed]",
            "text/plain": [
              "<Figure size 432x288 with 1 Axes>"
            ]
          },
          "metadata": {
            "needs_background": "light"
          }
        },
        {
          "output_type": "display_data",
          "data": {
            "image/png": "[encoded data removed]",
            "text/plain": [
              "<Figure size 432x288 with 1 Axes>"
            ]
          },
          "metadata": {
            "needs_background": "light"
          }
        },
        {
          "output_type": "display_data",
          "data": {
            "image/png": "[encoded data removed]",
            "text/plain": [
              "<Figure size 432x288 with 1 Axes>"
            ]
          },
          "metadata": {
            "needs_background": "light"
          }
        }
      ]
    },
    {
      "cell_type": "code",
      "source": [
        "#binning\n",
        "\n",
        "def binYearData(df, columns):\n",
        "  yrSoldbins = [1860,2006,2008,2010,2020]\n",
        "\n",
        "  otherYearBins = [1860,1960,1980,2000,2010,2020]\n",
        "\n",
        "  for col in columns:\n",
        "    bins = otherYearBins\n",
        "    if col == 'YrSold':  \n",
        "      bins = yrSoldbins\n",
        "    data[col] = pd.cut(data[col], bins)\n",
        "  \n",
        "\n",
        "\n"
      ],
      "metadata": {
        "id": "wVs_yqyQcou_"
      },
      "execution_count": 625,
      "outputs": []
    },
    {
      "cell_type": "code",
      "source": [
        "#bin year data as there are too many years\n",
        "binYearData(data, yearcolumns)"
      ],
      "metadata": {
        "id": "MpQFzXR0jBk4"
      },
      "execution_count": 626,
      "outputs": []
    },
    {
      "cell_type": "code",
      "source": [
        "def populateNAwithNA(df,columns):\n",
        "    for column in columns:\n",
        "        df[column] = df[column].fillna('NA')\n",
        "    return df"
      ],
      "metadata": {
        "id": "MxEtUipjjMxA"
      },
      "execution_count": 627,
      "outputs": []
    },
    {
      "cell_type": "code",
      "source": [
        "def outlier_treatment(df,column=None):\n",
        "  \"\"\"This function accepts a dataframe and a numerical column name for which outliers are treated\"\"\"\n",
        "  df = df[df[column].between(df[column].quantile(0.05),df[column].quantile(0.95))]\n",
        "  return df\n",
        "\n",
        "def outlier_treatment_columns(df,columns):\n",
        "    for column in columns:\n",
        "        df = outlier_treatment(df, column)\n",
        "    return df"
      ],
      "metadata": {
        "id": "faN5mIRJfvUX"
      },
      "execution_count": 628,
      "outputs": []
    },
    {
      "cell_type": "code",
      "source": [
        "#remove outliers\n",
        "data = outlier_treatment_columns(data, numeric_columns)\n"
      ],
      "metadata": {
        "id": "EMp2AwIbRH9d"
      },
      "execution_count": 629,
      "outputs": []
    },
    {
      "cell_type": "markdown",
      "source": [
        "### Create dummy variables"
      ],
      "metadata": {
        "id": "faE3kbnyreBC"
      }
    },
    {
      "cell_type": "code",
      "source": [
        "def replaceCategoricalColumnsWithDummies(df, columns):\n",
        "    for col in columns:\n",
        "        dummyVariables = pd.get_dummies(df[col], prefix = col)\n",
        "        df = pd.concat([df, dummyVariables], axis = 1)\n",
        "        df.drop([col], axis = 1, inplace = True)\n",
        "    return df"
      ],
      "metadata": {
        "id": "HBmh8QIFgxUC"
      },
      "execution_count": 630,
      "outputs": []
    },
    {
      "cell_type": "code",
      "source": [
        "data = replaceCategoricalColumnsWithDummies(data, catcolumns)"
      ],
      "metadata": {
        "id": "5R2K5IxhM7Qe"
      },
      "execution_count": 631,
      "outputs": []
    },
    {
      "cell_type": "markdown",
      "source": [
        "### Remove correlated predictors\n"
      ],
      "metadata": {
        "id": "j-D6u43a1n_3"
      }
    },
    {
      "cell_type": "code",
      "source": [
        "#https://stackoverflow.com/questions/17778394/list-highest-correlation-pairs-from-a-large-correlation-matrix-in-pandas\n",
        "def deleteHighlyCorrelatedColumns(df, minPercentage):\n",
        "  corr_matrix = df.corr().abs()\n",
        "  sol = (corr_matrix.where(np.triu(np.ones(corr_matrix.shape), k=1).astype(np.bool))\n",
        "                    .stack()\n",
        "                    .sort_values(ascending=False))\n",
        "  \n",
        "  correlatedCols = []\n",
        "  for index, value in sol.items():\n",
        "      if(value > 0.75) :\n",
        "          correlatedCols.append(index[0])\n",
        "\n",
        "  df = df.drop(columns = correlatedCols, axis = 1)\n",
        "\n",
        "  return df"
      ],
      "metadata": {
        "id": "pnI388bO23Fq"
      },
      "execution_count": 632,
      "outputs": []
    },
    {
      "cell_type": "code",
      "source": [
        "data = deleteHighlyCorrelatedColumns(data, 0.70)"
      ],
      "metadata": {
        "id": "PWWF-vCv3sb5"
      },
      "execution_count": 633,
      "outputs": []
    },
    {
      "cell_type": "code",
      "source": [
        "numeric_columns = set(data.columns) - set(catcolumns)\n",
        "numeric_columns_list = list(numeric_columns)"
      ],
      "metadata": {
        "id": "fU5jdDfvFc1E"
      },
      "execution_count": 634,
      "outputs": []
    },
    {
      "cell_type": "markdown",
      "source": [
        "### Split to Train and Test Data"
      ],
      "metadata": {
        "id": "kE6qmIAF0dh-"
      }
    },
    {
      "cell_type": "code",
      "source": [
        "from sklearn.model_selection import train_test_split\n",
        "\n",
        "np.random.seed(0)\n",
        "df_train, df_test = train_test_split(data, train_size = 0.8, test_size=0.2, random_state=100)"
      ],
      "metadata": {
        "id": "wC9q5iHb0fMd"
      },
      "execution_count": 635,
      "outputs": []
    },
    {
      "cell_type": "markdown",
      "source": [
        "### Rescaling the feature"
      ],
      "metadata": {
        "id": "XjLYXSnz0wlk"
      }
    },
    {
      "cell_type": "code",
      "source": [
        "df_train[numeric_columns].isnull().sum()"
      ],
      "metadata": {
        "colab": {
          "base_uri": "https://localhost:8080/"
        },
        "id": "13MCUG1v4bpT",
        "outputId": "ecca08f7-93a2-4314-c82a-3e7b9e774388"
      },
      "execution_count": 636,
      "outputs": [
        {
          "output_type": "execute_result",
          "data": {
            "text/plain": [
              "HalfBath                    0\n",
              "GarageYrBlt_(2010, 2020]    0\n",
              "MSZoning_RM                 0\n",
              "GarageType_BuiltIn          0\n",
              "MasVnrType_NA               0\n",
              "                           ..\n",
              "Fireplaces                  0\n",
              "YearBuilt_(2010, 2020]      0\n",
              "Foundation_PConc            0\n",
              "Exterior2nd_AsbShng         0\n",
              "BsmtFinType1_GLQ            0\n",
              "Length: 121, dtype: int64"
            ]
          },
          "metadata": {},
          "execution_count": 636
        }
      ]
    },
    {
      "cell_type": "code",
      "source": [
        "scaler = MinMaxScaler()\n",
        "df_train[numeric_columns_list] = scaler.fit_transform(df_train[numeric_columns_list])\n",
        "\n"
      ],
      "metadata": {
        "id": "vyck2vCo0vAS"
      },
      "execution_count": 637,
      "outputs": []
    },
    {
      "cell_type": "markdown",
      "source": [
        "### Linear Regression\n"
      ],
      "metadata": {
        "id": "cfx5fO9T8DhB"
      }
    },
    {
      "cell_type": "code",
      "source": [
        "y_train = df_train.pop('SalePrice')\n",
        "X_train = df_train"
      ],
      "metadata": {
        "id": "YgfnCSnO0qpY"
      },
      "execution_count": 638,
      "outputs": []
    },
    {
      "cell_type": "markdown",
      "source": [
        "#### RFE"
      ],
      "metadata": {
        "id": "GzYVKkcK8Tfr"
      }
    },
    {
      "cell_type": "code",
      "source": [
        "def calculate_rfe(xtrain, ytrain, num_features):\n",
        "    lm = LinearRegression()\n",
        "    lm.fit(xtrain, ytrain)\n",
        "    \n",
        "    rfe = RFE(estimator=lm, n_features_to_select=num_features)\n",
        "    rfe = rfe.fit(xtrain, ytrain)\n",
        "    \n",
        "    #list(zip(xtrain.columns,rfe.support_,rfe.ranking_))\n",
        "    \n",
        "    return rfe, lm"
      ],
      "metadata": {
        "id": "UYjMsKPW8Xz_"
      },
      "execution_count": 639,
      "outputs": []
    },
    {
      "cell_type": "code",
      "source": [
        "rfe,_ = calculate_rfe(X_train, y_train, 100)"
      ],
      "metadata": {
        "id": "urxTjBHg8y9g"
      },
      "execution_count": 640,
      "outputs": []
    },
    {
      "cell_type": "code",
      "source": [
        "list(zip(X_train.columns,rfe.support_,rfe.ranking_))"
      ],
      "metadata": {
        "colab": {
          "base_uri": "https://localhost:8080/"
        },
        "id": "-wZHExXF8d6d",
        "outputId": "1cb7e802-f794-4929-b441-e1c6fe98ff6f"
      },
      "execution_count": 641,
      "outputs": [
        {
          "output_type": "execute_result",
          "data": {
            "text/plain": [
              "[('LotFrontage', True, 1),\n",
              " ('LotArea', False, 17),\n",
              " ('BsmtUnfSF', True, 1),\n",
              " ('1stFlrSF', True, 1),\n",
              " ('LowQualFinSF', True, 1),\n",
              " ('GrLivArea', True, 1),\n",
              " ('BsmtFullBath', True, 1),\n",
              " ('BsmtHalfBath', False, 4),\n",
              " ('FullBath', True, 1),\n",
              " ('HalfBath', True, 1),\n",
              " ('BedroomAbvGr', False, 12),\n",
              " ('KitchenAbvGr', True, 1),\n",
              " ('TotRmsAbvGrd', False, 14),\n",
              " ('Fireplaces', True, 1),\n",
              " ('GarageArea', True, 1),\n",
              " ('WoodDeckSF', True, 1),\n",
              " ('OpenPorchSF', True, 1),\n",
              " ('EnclosedPorch', True, 1),\n",
              " ('3SsnPorch', True, 1),\n",
              " ('ScreenPorch', False, 18),\n",
              " ('PoolArea', True, 1),\n",
              " ('MiscVal', True, 1),\n",
              " ('MoSold', True, 1),\n",
              " ('GarageFinish_Fin', True, 1),\n",
              " ('GarageFinish_RFn', True, 1),\n",
              " ('GarageFinish_Unf', True, 1),\n",
              " ('YearRemodAdd_(1860, 1960]', False, 5),\n",
              " ('YearRemodAdd_(2010, 2020]', True, 1),\n",
              " ('Foundation_BrkTil', False, 9),\n",
              " ('Foundation_PConc', False, 11),\n",
              " ('Exterior1st_BrkFace', True, 1),\n",
              " ('Exterior1st_Plywood', True, 1),\n",
              " ('Exterior1st_WdShing', False, 3),\n",
              " ('LotConfig_Corner', True, 1),\n",
              " ('LotConfig_CulDSac', True, 1),\n",
              " ('LotConfig_FR2', True, 1),\n",
              " ('LotConfig_FR3', True, 1),\n",
              " ('LotConfig_Inside', True, 1),\n",
              " ('KitchenQual_Ex', True, 1),\n",
              " ('KitchenQual_Fa', True, 1),\n",
              " ('KitchenQual_TA', True, 1),\n",
              " ('MasVnrType_BrkCmn', False, 15),\n",
              " ('MasVnrType_NA', True, 1),\n",
              " ('MasVnrType_None', True, 1),\n",
              " ('MasVnrType_Stone', False, 2),\n",
              " ('LotShape_IR2', True, 1),\n",
              " ('LotShape_Reg', False, 13),\n",
              " ('GarageYrBlt_(2010, 2020]', True, 1),\n",
              " ('OverallCond_3', True, 1),\n",
              " ('OverallCond_4', True, 1),\n",
              " ('OverallCond_5', True, 1),\n",
              " ('OverallCond_6', True, 1),\n",
              " ('OverallCond_7', True, 1),\n",
              " ('OverallCond_8', True, 1),\n",
              " ('OverallCond_9', True, 1),\n",
              " ('YrSold_(1860, 2006]', True, 1),\n",
              " ('YrSold_(2006, 2008]', True, 1),\n",
              " ('YrSold_(2008, 2010]', True, 1),\n",
              " ('YrSold_(2010, 2020]', True, 1),\n",
              " ('MSZoning_FV', True, 1),\n",
              " ('MSZoning_RM', False, 7),\n",
              " ('BsmtExposure_Av', True, 1),\n",
              " ('BsmtExposure_Gd', True, 1),\n",
              " ('BsmtExposure_Mn', True, 1),\n",
              " ('BsmtExposure_No', True, 1),\n",
              " ('HeatingQC_Ex', True, 1),\n",
              " ('HeatingQC_Fa', True, 1),\n",
              " ('HeatingQC_Gd', True, 1),\n",
              " ('HeatingQC_TA', True, 1),\n",
              " ('YearBuilt_(1860, 1960]', True, 1),\n",
              " ('YearBuilt_(1960, 1980]', True, 1),\n",
              " ('YearBuilt_(1980, 2000]', True, 1),\n",
              " ('YearBuilt_(2000, 2010]', True, 1),\n",
              " ('YearBuilt_(2010, 2020]', True, 1),\n",
              " ('MSSubClass_30', True, 1),\n",
              " ('MSSubClass_40', False, 8),\n",
              " ('MSSubClass_70', False, 6),\n",
              " ('MSSubClass_90', True, 1),\n",
              " ('MSSubClass_120', True, 1),\n",
              " ('MSSubClass_160', True, 1),\n",
              " ('MSSubClass_190', True, 1),\n",
              " ('BsmtQual_Ex', True, 1),\n",
              " ('BsmtQual_Fa', False, 20),\n",
              " ('BsmtQual_TA', False, 16),\n",
              " ('Exterior2nd_AsbShng', True, 1),\n",
              " ('Exterior2nd_BrkFace', True, 1),\n",
              " ('Exterior2nd_CmentBd', True, 1),\n",
              " ('Exterior2nd_HdBoard', True, 1),\n",
              " ('Exterior2nd_ImStucc', True, 1),\n",
              " ('Exterior2nd_MetalSd', True, 1),\n",
              " ('Exterior2nd_Plywood', True, 1),\n",
              " ('Exterior2nd_Stucco', True, 1),\n",
              " ('Exterior2nd_VinylSd', True, 1),\n",
              " ('Exterior2nd_Wd Sdng', True, 1),\n",
              " ('Exterior2nd_Wd Shng', True, 1),\n",
              " ('OverallQual_3', False, 19),\n",
              " ('OverallQual_4', True, 1),\n",
              " ('OverallQual_5', True, 1),\n",
              " ('OverallQual_6', True, 1),\n",
              " ('OverallQual_7', True, 1),\n",
              " ('OverallQual_8', True, 1),\n",
              " ('GarageType_Basment', True, 1),\n",
              " ('GarageType_BuiltIn', True, 1),\n",
              " ('GarageType_Detchd', False, 10),\n",
              " ('BsmtFinType1_ALQ', True, 1),\n",
              " ('BsmtFinType1_BLQ', True, 1),\n",
              " ('BsmtFinType1_GLQ', True, 1),\n",
              " ('BsmtFinType1_LwQ', True, 1),\n",
              " ('BsmtFinType1_Rec', True, 1),\n",
              " ('BsmtFinType1_Unf', True, 1),\n",
              " ('RoofStyle_Gambrel', True, 1),\n",
              " ('RoofStyle_Hip', True, 1),\n",
              " ('HouseStyle_1.5Fin', True, 1),\n",
              " ('HouseStyle_1.5Unf', True, 1),\n",
              " ('HouseStyle_1Story', True, 1),\n",
              " ('HouseStyle_2Story', True, 1),\n",
              " ('HouseStyle_SFoyer', True, 1),\n",
              " ('HouseStyle_SLvl', True, 1),\n",
              " ('ExterQual_Ex', False, 21),\n",
              " ('ExterQual_TA', True, 1)]"
            ]
          },
          "metadata": {},
          "execution_count": 641
        }
      ]
    },
    {
      "cell_type": "code",
      "source": [
        "cols_include = X_train.columns[rfe.support_]\n",
        "cols_include"
      ],
      "metadata": {
        "colab": {
          "base_uri": "https://localhost:8080/"
        },
        "id": "Tp0Yfb_4_kn2",
        "outputId": "dc4ea6ee-a05d-498c-b076-64c92f5490fa"
      },
      "execution_count": 642,
      "outputs": [
        {
          "output_type": "execute_result",
          "data": {
            "text/plain": [
              "Index(['LotFrontage', 'BsmtUnfSF', '1stFlrSF', 'LowQualFinSF', 'GrLivArea',\n",
              "       'BsmtFullBath', 'FullBath', 'HalfBath', 'KitchenAbvGr', 'Fireplaces',\n",
              "       'GarageArea', 'WoodDeckSF', 'OpenPorchSF', 'EnclosedPorch', '3SsnPorch',\n",
              "       'PoolArea', 'MiscVal', 'MoSold', 'GarageFinish_Fin', 'GarageFinish_RFn',\n",
              "       'GarageFinish_Unf', 'YearRemodAdd_(2010, 2020]', 'Exterior1st_BrkFace',\n",
              "       'Exterior1st_Plywood', 'LotConfig_Corner', 'LotConfig_CulDSac',\n",
              "       'LotConfig_FR2', 'LotConfig_FR3', 'LotConfig_Inside', 'KitchenQual_Ex',\n",
              "       'KitchenQual_Fa', 'KitchenQual_TA', 'MasVnrType_NA', 'MasVnrType_None',\n",
              "       'LotShape_IR2', 'GarageYrBlt_(2010, 2020]', 'OverallCond_3',\n",
              "       'OverallCond_4', 'OverallCond_5', 'OverallCond_6', 'OverallCond_7',\n",
              "       'OverallCond_8', 'OverallCond_9', 'YrSold_(1860, 2006]',\n",
              "       'YrSold_(2006, 2008]', 'YrSold_(2008, 2010]', 'YrSold_(2010, 2020]',\n",
              "       'MSZoning_FV', 'BsmtExposure_Av', 'BsmtExposure_Gd', 'BsmtExposure_Mn',\n",
              "       'BsmtExposure_No', 'HeatingQC_Ex', 'HeatingQC_Fa', 'HeatingQC_Gd',\n",
              "       'HeatingQC_TA', 'YearBuilt_(1860, 1960]', 'YearBuilt_(1960, 1980]',\n",
              "       'YearBuilt_(1980, 2000]', 'YearBuilt_(2000, 2010]',\n",
              "       'YearBuilt_(2010, 2020]', 'MSSubClass_30', 'MSSubClass_90',\n",
              "       'MSSubClass_120', 'MSSubClass_160', 'MSSubClass_190', 'BsmtQual_Ex',\n",
              "       'Exterior2nd_AsbShng', 'Exterior2nd_BrkFace', 'Exterior2nd_CmentBd',\n",
              "       'Exterior2nd_HdBoard', 'Exterior2nd_ImStucc', 'Exterior2nd_MetalSd',\n",
              "       'Exterior2nd_Plywood', 'Exterior2nd_Stucco', 'Exterior2nd_VinylSd',\n",
              "       'Exterior2nd_Wd Sdng', 'Exterior2nd_Wd Shng', 'OverallQual_4',\n",
              "       'OverallQual_5', 'OverallQual_6', 'OverallQual_7', 'OverallQual_8',\n",
              "       'GarageType_Basment', 'GarageType_BuiltIn', 'BsmtFinType1_ALQ',\n",
              "       'BsmtFinType1_BLQ', 'BsmtFinType1_GLQ', 'BsmtFinType1_LwQ',\n",
              "       'BsmtFinType1_Rec', 'BsmtFinType1_Unf', 'RoofStyle_Gambrel',\n",
              "       'RoofStyle_Hip', 'HouseStyle_1.5Fin', 'HouseStyle_1.5Unf',\n",
              "       'HouseStyle_1Story', 'HouseStyle_2Story', 'HouseStyle_SFoyer',\n",
              "       'HouseStyle_SLvl', 'ExterQual_TA'],\n",
              "      dtype='object')"
            ]
          },
          "metadata": {},
          "execution_count": 642
        }
      ]
    },
    {
      "cell_type": "code",
      "source": [
        "cols_exclude = X_train.columns[~rfe.support_]\n",
        "cols_exclude"
      ],
      "metadata": {
        "colab": {
          "base_uri": "https://localhost:8080/"
        },
        "id": "CTTHVjsC_qIm",
        "outputId": "4a49b975-3d80-462b-9e3c-3f94d76e595c"
      },
      "execution_count": 643,
      "outputs": [
        {
          "output_type": "execute_result",
          "data": {
            "text/plain": [
              "Index(['LotArea', 'BsmtHalfBath', 'BedroomAbvGr', 'TotRmsAbvGrd',\n",
              "       'ScreenPorch', 'YearRemodAdd_(1860, 1960]', 'Foundation_BrkTil',\n",
              "       'Foundation_PConc', 'Exterior1st_WdShing', 'MasVnrType_BrkCmn',\n",
              "       'MasVnrType_Stone', 'LotShape_Reg', 'MSZoning_RM', 'MSSubClass_40',\n",
              "       'MSSubClass_70', 'BsmtQual_Fa', 'BsmtQual_TA', 'OverallQual_3',\n",
              "       'GarageType_Detchd', 'ExterQual_Ex'],\n",
              "      dtype='object')"
            ]
          },
          "metadata": {},
          "execution_count": 643
        }
      ]
    },
    {
      "cell_type": "code",
      "source": [
        "X_train_rfe = X_train[cols_include]"
      ],
      "metadata": {
        "id": "pcFHoXBd_sXM"
      },
      "execution_count": 644,
      "outputs": []
    },
    {
      "cell_type": "code",
      "source": [
        "def getLinearRegressionModel(xtrain):\n",
        "    # add constant\n",
        "    xtrainlm = sm.add_constant(xtrain)\n",
        "    \n",
        "    # build linear model\n",
        "    lrmodel = sm.OLS(y_train, xtrainlm).fit() \n",
        "    lrmodel.summary()\n",
        "    \n",
        "    return xtrainlm, lrmodel"
      ],
      "metadata": {
        "id": "zOel8oq2CrCw"
      },
      "execution_count": 645,
      "outputs": []
    },
    {
      "cell_type": "code",
      "source": [
        "# build linear model\n",
        "X_train_lm, lm = getLinearRegressionModel(X_train_rfe)"
      ],
      "metadata": {
        "id": "JJYlOTPjDWjQ"
      },
      "execution_count": 646,
      "outputs": []
    },
    {
      "cell_type": "code",
      "source": [
        "X_train_rfe.columns"
      ],
      "metadata": {
        "colab": {
          "base_uri": "https://localhost:8080/"
        },
        "id": "s-Sh2U1pDs6K",
        "outputId": "de05142c-c167-4e95-d666-0d27a777e766"
      },
      "execution_count": 647,
      "outputs": [
        {
          "output_type": "execute_result",
          "data": {
            "text/plain": [
              "Index(['LotFrontage', 'BsmtUnfSF', '1stFlrSF', 'LowQualFinSF', 'GrLivArea',\n",
              "       'BsmtFullBath', 'FullBath', 'HalfBath', 'KitchenAbvGr', 'Fireplaces',\n",
              "       'GarageArea', 'WoodDeckSF', 'OpenPorchSF', 'EnclosedPorch', '3SsnPorch',\n",
              "       'PoolArea', 'MiscVal', 'MoSold', 'GarageFinish_Fin', 'GarageFinish_RFn',\n",
              "       'GarageFinish_Unf', 'YearRemodAdd_(2010, 2020]', 'Exterior1st_BrkFace',\n",
              "       'Exterior1st_Plywood', 'LotConfig_Corner', 'LotConfig_CulDSac',\n",
              "       'LotConfig_FR2', 'LotConfig_FR3', 'LotConfig_Inside', 'KitchenQual_Ex',\n",
              "       'KitchenQual_Fa', 'KitchenQual_TA', 'MasVnrType_NA', 'MasVnrType_None',\n",
              "       'LotShape_IR2', 'GarageYrBlt_(2010, 2020]', 'OverallCond_3',\n",
              "       'OverallCond_4', 'OverallCond_5', 'OverallCond_6', 'OverallCond_7',\n",
              "       'OverallCond_8', 'OverallCond_9', 'YrSold_(1860, 2006]',\n",
              "       'YrSold_(2006, 2008]', 'YrSold_(2008, 2010]', 'YrSold_(2010, 2020]',\n",
              "       'MSZoning_FV', 'BsmtExposure_Av', 'BsmtExposure_Gd', 'BsmtExposure_Mn',\n",
              "       'BsmtExposure_No', 'HeatingQC_Ex', 'HeatingQC_Fa', 'HeatingQC_Gd',\n",
              "       'HeatingQC_TA', 'YearBuilt_(1860, 1960]', 'YearBuilt_(1960, 1980]',\n",
              "       'YearBuilt_(1980, 2000]', 'YearBuilt_(2000, 2010]',\n",
              "       'YearBuilt_(2010, 2020]', 'MSSubClass_30', 'MSSubClass_90',\n",
              "       'MSSubClass_120', 'MSSubClass_160', 'MSSubClass_190', 'BsmtQual_Ex',\n",
              "       'Exterior2nd_AsbShng', 'Exterior2nd_BrkFace', 'Exterior2nd_CmentBd',\n",
              "       'Exterior2nd_HdBoard', 'Exterior2nd_ImStucc', 'Exterior2nd_MetalSd',\n",
              "       'Exterior2nd_Plywood', 'Exterior2nd_Stucco', 'Exterior2nd_VinylSd',\n",
              "       'Exterior2nd_Wd Sdng', 'Exterior2nd_Wd Shng', 'OverallQual_4',\n",
              "       'OverallQual_5', 'OverallQual_6', 'OverallQual_7', 'OverallQual_8',\n",
              "       'GarageType_Basment', 'GarageType_BuiltIn', 'BsmtFinType1_ALQ',\n",
              "       'BsmtFinType1_BLQ', 'BsmtFinType1_GLQ', 'BsmtFinType1_LwQ',\n",
              "       'BsmtFinType1_Rec', 'BsmtFinType1_Unf', 'RoofStyle_Gambrel',\n",
              "       'RoofStyle_Hip', 'HouseStyle_1.5Fin', 'HouseStyle_1.5Unf',\n",
              "       'HouseStyle_1Story', 'HouseStyle_2Story', 'HouseStyle_SFoyer',\n",
              "       'HouseStyle_SLvl', 'ExterQual_TA'],\n",
              "      dtype='object')"
            ]
          },
          "metadata": {},
          "execution_count": 647
        }
      ]
    },
    {
      "cell_type": "code",
      "source": [
        "lm.summary()"
      ],
      "metadata": {
        "colab": {
          "base_uri": "https://localhost:8080/",
          "height": 1000
        },
        "id": "LeWMx0UfD5BT",
        "outputId": "1314c715-d7d7-47b9-aa7d-233a710d248f"
      },
      "execution_count": 648,
      "outputs": [
        {
          "output_type": "execute_result",
          "data": {
            "text/html": [
              "<table class=\"simpletable\">\n",
              "<caption>OLS Regression Results</caption>\n",
              "<tr>\n",
              "  <th>Dep. Variable:</th>        <td>SalePrice</td>    <th>  R-squared:         </th> <td>   0.927</td>\n",
              "</tr>\n",
              "<tr>\n",
              "  <th>Model:</th>                   <td>OLS</td>       <th>  Adj. R-squared:    </th> <td>   0.897</td>\n",
              "</tr>\n",
              "<tr>\n",
              "  <th>Method:</th>             <td>Least Squares</td>  <th>  F-statistic:       </th> <td>   30.18</td>\n",
              "</tr>\n",
              "<tr>\n",
              "  <th>Date:</th>             <td>Wed, 09 Feb 2022</td> <th>  Prob (F-statistic):</th> <td>6.33e-75</td>\n",
              "</tr>\n",
              "<tr>\n",
              "  <th>Time:</th>                 <td>15:55:50</td>     <th>  Log-Likelihood:    </th> <td>  382.50</td>\n",
              "</tr>\n",
              "<tr>\n",
              "  <th>No. Observations:</th>      <td>   267</td>      <th>  AIC:               </th> <td>  -605.0</td>\n",
              "</tr>\n",
              "<tr>\n",
              "  <th>Df Residuals:</th>          <td>   187</td>      <th>  BIC:               </th> <td>  -318.0</td>\n",
              "</tr>\n",
              "<tr>\n",
              "  <th>Df Model:</th>              <td>    79</td>      <th>                     </th>     <td> </td>   \n",
              "</tr>\n",
              "<tr>\n",
              "  <th>Covariance Type:</th>      <td>nonrobust</td>    <th>                     </th>     <td> </td>   \n",
              "</tr>\n",
              "</table>\n",
              "<table class=\"simpletable\">\n",
              "<tr>\n",
              "              <td></td>                 <th>coef</th>     <th>std err</th>      <th>t</th>      <th>P>|t|</th>  <th>[0.025</th>    <th>0.975]</th>  \n",
              "</tr>\n",
              "<tr>\n",
              "  <th>const</th>                     <td>   -0.0125</td> <td>    0.027</td> <td>   -0.466</td> <td> 0.642</td> <td>   -0.066</td> <td>    0.041</td>\n",
              "</tr>\n",
              "<tr>\n",
              "  <th>LotFrontage</th>               <td>    0.0973</td> <td>    0.032</td> <td>    3.003</td> <td> 0.003</td> <td>    0.033</td> <td>    0.161</td>\n",
              "</tr>\n",
              "<tr>\n",
              "  <th>BsmtUnfSF</th>                 <td>   -0.0617</td> <td>    0.037</td> <td>   -1.652</td> <td> 0.100</td> <td>   -0.135</td> <td>    0.012</td>\n",
              "</tr>\n",
              "<tr>\n",
              "  <th>1stFlrSF</th>                  <td>   -0.1023</td> <td>    0.089</td> <td>   -1.147</td> <td> 0.253</td> <td>   -0.278</td> <td>    0.074</td>\n",
              "</tr>\n",
              "<tr>\n",
              "  <th>LowQualFinSF</th>              <td>-1.168e-16</td> <td> 1.09e-16</td> <td>   -1.072</td> <td> 0.285</td> <td>-3.32e-16</td> <td> 9.82e-17</td>\n",
              "</tr>\n",
              "<tr>\n",
              "  <th>GrLivArea</th>                 <td>    0.5264</td> <td>    0.097</td> <td>    5.451</td> <td> 0.000</td> <td>    0.336</td> <td>    0.717</td>\n",
              "</tr>\n",
              "<tr>\n",
              "  <th>BsmtFullBath</th>              <td>    0.0168</td> <td>    0.013</td> <td>    1.298</td> <td> 0.196</td> <td>   -0.009</td> <td>    0.042</td>\n",
              "</tr>\n",
              "<tr>\n",
              "  <th>FullBath</th>                  <td>    0.0328</td> <td>    0.021</td> <td>    1.548</td> <td> 0.123</td> <td>   -0.009</td> <td>    0.075</td>\n",
              "</tr>\n",
              "<tr>\n",
              "  <th>HalfBath</th>                  <td>    0.0191</td> <td>    0.016</td> <td>    1.194</td> <td> 0.234</td> <td>   -0.012</td> <td>    0.051</td>\n",
              "</tr>\n",
              "<tr>\n",
              "  <th>KitchenAbvGr</th>              <td> 9.687e-17</td> <td> 8.85e-17</td> <td>    1.094</td> <td> 0.275</td> <td>-7.78e-17</td> <td> 2.72e-16</td>\n",
              "</tr>\n",
              "<tr>\n",
              "  <th>Fireplaces</th>                <td>    0.0258</td> <td>    0.013</td> <td>    2.017</td> <td> 0.045</td> <td>    0.001</td> <td>    0.051</td>\n",
              "</tr>\n",
              "<tr>\n",
              "  <th>GarageArea</th>                <td>    0.0929</td> <td>    0.029</td> <td>    3.211</td> <td> 0.002</td> <td>    0.036</td> <td>    0.150</td>\n",
              "</tr>\n",
              "<tr>\n",
              "  <th>WoodDeckSF</th>                <td>    0.0257</td> <td>    0.019</td> <td>    1.326</td> <td> 0.187</td> <td>   -0.013</td> <td>    0.064</td>\n",
              "</tr>\n",
              "<tr>\n",
              "  <th>OpenPorchSF</th>               <td>    0.0267</td> <td>    0.022</td> <td>    1.201</td> <td> 0.231</td> <td>   -0.017</td> <td>    0.071</td>\n",
              "</tr>\n",
              "<tr>\n",
              "  <th>EnclosedPorch</th>             <td>    0.0326</td> <td>    0.028</td> <td>    1.146</td> <td> 0.253</td> <td>   -0.023</td> <td>    0.089</td>\n",
              "</tr>\n",
              "<tr>\n",
              "  <th>3SsnPorch</th>                 <td>-3.393e-16</td> <td> 1.45e-16</td> <td>   -2.346</td> <td> 0.020</td> <td>-6.25e-16</td> <td> -5.4e-17</td>\n",
              "</tr>\n",
              "<tr>\n",
              "  <th>PoolArea</th>                  <td> 1.632e-17</td> <td> 9.95e-17</td> <td>    0.164</td> <td> 0.870</td> <td> -1.8e-16</td> <td> 2.13e-16</td>\n",
              "</tr>\n",
              "<tr>\n",
              "  <th>MiscVal</th>                   <td> 4.108e-16</td> <td> 1.16e-16</td> <td>    3.555</td> <td> 0.000</td> <td> 1.83e-16</td> <td> 6.39e-16</td>\n",
              "</tr>\n",
              "<tr>\n",
              "  <th>MoSold</th>                    <td>   -0.0190</td> <td>    0.021</td> <td>   -0.907</td> <td> 0.366</td> <td>   -0.060</td> <td>    0.022</td>\n",
              "</tr>\n",
              "<tr>\n",
              "  <th>GarageFinish_Fin</th>          <td>   -0.0096</td> <td>    0.014</td> <td>   -0.708</td> <td> 0.480</td> <td>   -0.036</td> <td>    0.017</td>\n",
              "</tr>\n",
              "<tr>\n",
              "  <th>GarageFinish_RFn</th>          <td>    0.0102</td> <td>    0.012</td> <td>    0.821</td> <td> 0.413</td> <td>   -0.014</td> <td>    0.035</td>\n",
              "</tr>\n",
              "<tr>\n",
              "  <th>GarageFinish_Unf</th>          <td>   -0.0131</td> <td>    0.013</td> <td>   -1.031</td> <td> 0.304</td> <td>   -0.038</td> <td>    0.012</td>\n",
              "</tr>\n",
              "<tr>\n",
              "  <th>YearRemodAdd_(2010, 2020]</th> <td>-1.185e-16</td> <td> 1.18e-16</td> <td>   -1.008</td> <td> 0.315</td> <td>-3.51e-16</td> <td> 1.14e-16</td>\n",
              "</tr>\n",
              "<tr>\n",
              "  <th>Exterior1st_BrkFace</th>       <td>    0.0596</td> <td>    0.045</td> <td>    1.316</td> <td> 0.190</td> <td>   -0.030</td> <td>    0.149</td>\n",
              "</tr>\n",
              "<tr>\n",
              "  <th>Exterior1st_Plywood</th>       <td>   -0.0307</td> <td>    0.037</td> <td>   -0.831</td> <td> 0.407</td> <td>   -0.104</td> <td>    0.042</td>\n",
              "</tr>\n",
              "<tr>\n",
              "  <th>LotConfig_Corner</th>          <td>    0.0160</td> <td>    0.019</td> <td>    0.845</td> <td> 0.399</td> <td>   -0.021</td> <td>    0.053</td>\n",
              "</tr>\n",
              "<tr>\n",
              "  <th>LotConfig_CulDSac</th>         <td>    0.0356</td> <td>    0.022</td> <td>    1.632</td> <td> 0.104</td> <td>   -0.007</td> <td>    0.079</td>\n",
              "</tr>\n",
              "<tr>\n",
              "  <th>LotConfig_FR2</th>             <td>    0.0177</td> <td>    0.028</td> <td>    0.637</td> <td> 0.525</td> <td>   -0.037</td> <td>    0.073</td>\n",
              "</tr>\n",
              "<tr>\n",
              "  <th>LotConfig_FR3</th>             <td>   -0.0843</td> <td>    0.046</td> <td>   -1.835</td> <td> 0.068</td> <td>   -0.175</td> <td>    0.006</td>\n",
              "</tr>\n",
              "<tr>\n",
              "  <th>LotConfig_Inside</th>          <td>    0.0025</td> <td>    0.014</td> <td>    0.172</td> <td> 0.863</td> <td>   -0.026</td> <td>    0.031</td>\n",
              "</tr>\n",
              "<tr>\n",
              "  <th>KitchenQual_Ex</th>            <td>    0.1907</td> <td>    0.060</td> <td>    3.156</td> <td> 0.002</td> <td>    0.071</td> <td>    0.310</td>\n",
              "</tr>\n",
              "<tr>\n",
              "  <th>KitchenQual_Fa</th>            <td>    0.1158</td> <td>    0.039</td> <td>    2.986</td> <td> 0.003</td> <td>    0.039</td> <td>    0.192</td>\n",
              "</tr>\n",
              "<tr>\n",
              "  <th>KitchenQual_TA</th>            <td>    0.0294</td> <td>    0.015</td> <td>    1.898</td> <td> 0.059</td> <td>   -0.001</td> <td>    0.060</td>\n",
              "</tr>\n",
              "<tr>\n",
              "  <th>MasVnrType_NA</th>             <td>   -0.0344</td> <td>    0.072</td> <td>   -0.476</td> <td> 0.635</td> <td>   -0.177</td> <td>    0.108</td>\n",
              "</tr>\n",
              "<tr>\n",
              "  <th>MasVnrType_None</th>           <td>   -0.0177</td> <td>    0.012</td> <td>   -1.442</td> <td> 0.151</td> <td>   -0.042</td> <td>    0.007</td>\n",
              "</tr>\n",
              "<tr>\n",
              "  <th>LotShape_IR2</th>              <td>   -0.0149</td> <td>    0.046</td> <td>   -0.321</td> <td> 0.749</td> <td>   -0.106</td> <td>    0.077</td>\n",
              "</tr>\n",
              "<tr>\n",
              "  <th>GarageYrBlt_(2010, 2020]</th>  <td> 1.146e-18</td> <td> 4.06e-17</td> <td>    0.028</td> <td> 0.977</td> <td>-7.88e-17</td> <td> 8.11e-17</td>\n",
              "</tr>\n",
              "<tr>\n",
              "  <th>OverallCond_3</th>             <td>-1.152e-16</td> <td> 4.29e-17</td> <td>   -2.684</td> <td> 0.008</td> <td>   -2e-16</td> <td>-3.05e-17</td>\n",
              "</tr>\n",
              "<tr>\n",
              "  <th>OverallCond_4</th>             <td>   -0.0838</td> <td>    0.039</td> <td>   -2.173</td> <td> 0.031</td> <td>   -0.160</td> <td>   -0.008</td>\n",
              "</tr>\n",
              "<tr>\n",
              "  <th>OverallCond_5</th>             <td>   -0.0374</td> <td>    0.016</td> <td>   -2.330</td> <td> 0.021</td> <td>   -0.069</td> <td>   -0.006</td>\n",
              "</tr>\n",
              "<tr>\n",
              "  <th>OverallCond_6</th>             <td>    0.0084</td> <td>    0.015</td> <td>    0.543</td> <td> 0.588</td> <td>   -0.022</td> <td>    0.039</td>\n",
              "</tr>\n",
              "<tr>\n",
              "  <th>OverallCond_7</th>             <td>    0.0294</td> <td>    0.017</td> <td>    1.773</td> <td> 0.078</td> <td>   -0.003</td> <td>    0.062</td>\n",
              "</tr>\n",
              "<tr>\n",
              "  <th>OverallCond_8</th>             <td>    0.0110</td> <td>    0.026</td> <td>    0.423</td> <td> 0.673</td> <td>   -0.040</td> <td>    0.062</td>\n",
              "</tr>\n",
              "<tr>\n",
              "  <th>OverallCond_9</th>             <td>    0.0599</td> <td>    0.042</td> <td>    1.415</td> <td> 0.159</td> <td>   -0.024</td> <td>    0.143</td>\n",
              "</tr>\n",
              "<tr>\n",
              "  <th>YrSold_(1860, 2006]</th>       <td>   -0.0094</td> <td>    0.011</td> <td>   -0.856</td> <td> 0.393</td> <td>   -0.031</td> <td>    0.012</td>\n",
              "</tr>\n",
              "<tr>\n",
              "  <th>YrSold_(2006, 2008]</th>       <td>   -0.0029</td> <td>    0.011</td> <td>   -0.252</td> <td> 0.801</td> <td>   -0.025</td> <td>    0.020</td>\n",
              "</tr>\n",
              "<tr>\n",
              "  <th>YrSold_(2008, 2010]</th>       <td>   -0.0002</td> <td>    0.012</td> <td>   -0.019</td> <td> 0.985</td> <td>   -0.025</td> <td>    0.024</td>\n",
              "</tr>\n",
              "<tr>\n",
              "  <th>YrSold_(2010, 2020]</th>       <td> 4.024e-17</td> <td>  3.5e-17</td> <td>    1.150</td> <td> 0.252</td> <td>-2.88e-17</td> <td> 1.09e-16</td>\n",
              "</tr>\n",
              "<tr>\n",
              "  <th>MSZoning_FV</th>               <td>    0.0831</td> <td>    0.028</td> <td>    2.996</td> <td> 0.003</td> <td>    0.028</td> <td>    0.138</td>\n",
              "</tr>\n",
              "<tr>\n",
              "  <th>BsmtExposure_Av</th>           <td>    0.0935</td> <td>    0.075</td> <td>    1.250</td> <td> 0.213</td> <td>   -0.054</td> <td>    0.241</td>\n",
              "</tr>\n",
              "<tr>\n",
              "  <th>BsmtExposure_Gd</th>           <td>    0.1527</td> <td>    0.080</td> <td>    1.918</td> <td> 0.057</td> <td>   -0.004</td> <td>    0.310</td>\n",
              "</tr>\n",
              "<tr>\n",
              "  <th>BsmtExposure_Mn</th>           <td>    0.0825</td> <td>    0.076</td> <td>    1.085</td> <td> 0.280</td> <td>   -0.068</td> <td>    0.233</td>\n",
              "</tr>\n",
              "<tr>\n",
              "  <th>BsmtExposure_No</th>           <td>    0.0725</td> <td>    0.074</td> <td>    0.985</td> <td> 0.326</td> <td>   -0.073</td> <td>    0.218</td>\n",
              "</tr>\n",
              "<tr>\n",
              "  <th>HeatingQC_Ex</th>              <td>   -0.0027</td> <td>    0.013</td> <td>   -0.199</td> <td> 0.842</td> <td>   -0.029</td> <td>    0.024</td>\n",
              "</tr>\n",
              "<tr>\n",
              "  <th>HeatingQC_Fa</th>              <td>    0.0171</td> <td>    0.029</td> <td>    0.600</td> <td> 0.549</td> <td>   -0.039</td> <td>    0.073</td>\n",
              "</tr>\n",
              "<tr>\n",
              "  <th>HeatingQC_Gd</th>              <td>   -0.0014</td> <td>    0.014</td> <td>   -0.102</td> <td> 0.919</td> <td>   -0.029</td> <td>    0.026</td>\n",
              "</tr>\n",
              "<tr>\n",
              "  <th>HeatingQC_TA</th>              <td>   -0.0256</td> <td>    0.014</td> <td>   -1.767</td> <td> 0.079</td> <td>   -0.054</td> <td>    0.003</td>\n",
              "</tr>\n",
              "<tr>\n",
              "  <th>YearBuilt_(1860, 1960]</th>    <td>   -0.0781</td> <td>    0.018</td> <td>   -4.369</td> <td> 0.000</td> <td>   -0.113</td> <td>   -0.043</td>\n",
              "</tr>\n",
              "<tr>\n",
              "  <th>YearBuilt_(1960, 1980]</th>    <td>   -0.0441</td> <td>    0.016</td> <td>   -2.739</td> <td> 0.007</td> <td>   -0.076</td> <td>   -0.012</td>\n",
              "</tr>\n",
              "<tr>\n",
              "  <th>YearBuilt_(1980, 2000]</th>    <td>    0.0315</td> <td>    0.017</td> <td>    1.838</td> <td> 0.068</td> <td>   -0.002</td> <td>    0.065</td>\n",
              "</tr>\n",
              "<tr>\n",
              "  <th>YearBuilt_(2000, 2010]</th>    <td>    0.0782</td> <td>    0.020</td> <td>    3.918</td> <td> 0.000</td> <td>    0.039</td> <td>    0.118</td>\n",
              "</tr>\n",
              "<tr>\n",
              "  <th>YearBuilt_(2010, 2020]</th>    <td> 6.187e-17</td> <td> 2.25e-17</td> <td>    2.751</td> <td> 0.007</td> <td> 1.75e-17</td> <td> 1.06e-16</td>\n",
              "</tr>\n",
              "<tr>\n",
              "  <th>MSSubClass_30</th>             <td>   -0.0184</td> <td>    0.033</td> <td>   -0.567</td> <td> 0.571</td> <td>   -0.083</td> <td>    0.046</td>\n",
              "</tr>\n",
              "<tr>\n",
              "  <th>MSSubClass_90</th>             <td>   -0.0498</td> <td>    0.081</td> <td>   -0.614</td> <td> 0.540</td> <td>   -0.210</td> <td>    0.110</td>\n",
              "</tr>\n",
              "<tr>\n",
              "  <th>MSSubClass_120</th>            <td>    0.1181</td> <td>    0.031</td> <td>    3.779</td> <td> 0.000</td> <td>    0.056</td> <td>    0.180</td>\n",
              "</tr>\n",
              "<tr>\n",
              "  <th>MSSubClass_160</th>            <td>   -0.1493</td> <td>    0.082</td> <td>   -1.819</td> <td> 0.071</td> <td>   -0.311</td> <td>    0.013</td>\n",
              "</tr>\n",
              "<tr>\n",
              "  <th>MSSubClass_190</th>            <td>    0.0316</td> <td>    0.058</td> <td>    0.548</td> <td> 0.585</td> <td>   -0.082</td> <td>    0.145</td>\n",
              "</tr>\n",
              "<tr>\n",
              "  <th>BsmtQual_Ex</th>               <td>    0.0944</td> <td>    0.031</td> <td>    3.041</td> <td> 0.003</td> <td>    0.033</td> <td>    0.156</td>\n",
              "</tr>\n",
              "<tr>\n",
              "  <th>Exterior2nd_AsbShng</th>       <td>    0.0596</td> <td>    0.071</td> <td>    0.835</td> <td> 0.405</td> <td>   -0.081</td> <td>    0.200</td>\n",
              "</tr>\n",
              "<tr>\n",
              "  <th>Exterior2nd_BrkFace</th>       <td>   -0.0016</td> <td>    0.051</td> <td>   -0.030</td> <td> 0.976</td> <td>   -0.103</td> <td>    0.100</td>\n",
              "</tr>\n",
              "<tr>\n",
              "  <th>Exterior2nd_CmentBd</th>       <td>    0.0279</td> <td>    0.078</td> <td>    0.358</td> <td> 0.720</td> <td>   -0.126</td> <td>    0.182</td>\n",
              "</tr>\n",
              "<tr>\n",
              "  <th>Exterior2nd_HdBoard</th>       <td>    0.0079</td> <td>    0.020</td> <td>    0.387</td> <td> 0.699</td> <td>   -0.032</td> <td>    0.048</td>\n",
              "</tr>\n",
              "<tr>\n",
              "  <th>Exterior2nd_ImStucc</th>       <td>-3.769e-17</td> <td> 1.71e-17</td> <td>   -2.204</td> <td> 0.029</td> <td>-7.14e-17</td> <td>-3.95e-18</td>\n",
              "</tr>\n",
              "<tr>\n",
              "  <th>Exterior2nd_MetalSd</th>       <td>    0.0219</td> <td>    0.018</td> <td>    1.224</td> <td> 0.222</td> <td>   -0.013</td> <td>    0.057</td>\n",
              "</tr>\n",
              "<tr>\n",
              "  <th>Exterior2nd_Plywood</th>       <td>    0.0030</td> <td>    0.032</td> <td>    0.095</td> <td> 0.924</td> <td>   -0.060</td> <td>    0.066</td>\n",
              "</tr>\n",
              "<tr>\n",
              "  <th>Exterior2nd_Stucco</th>        <td>   -0.1380</td> <td>    0.057</td> <td>   -2.435</td> <td> 0.016</td> <td>   -0.250</td> <td>   -0.026</td>\n",
              "</tr>\n",
              "<tr>\n",
              "  <th>Exterior2nd_VinylSd</th>       <td>    0.0055</td> <td>    0.020</td> <td>    0.276</td> <td> 0.783</td> <td>   -0.034</td> <td>    0.045</td>\n",
              "</tr>\n",
              "<tr>\n",
              "  <th>Exterior2nd_Wd Sdng</th>       <td>    0.0266</td> <td>    0.020</td> <td>    1.320</td> <td> 0.188</td> <td>   -0.013</td> <td>    0.066</td>\n",
              "</tr>\n",
              "<tr>\n",
              "  <th>Exterior2nd_Wd Shng</th>       <td>   -0.0254</td> <td>    0.037</td> <td>   -0.695</td> <td> 0.488</td> <td>   -0.098</td> <td>    0.047</td>\n",
              "</tr>\n",
              "<tr>\n",
              "  <th>OverallQual_4</th>             <td>   -0.0734</td> <td>    0.020</td> <td>   -3.709</td> <td> 0.000</td> <td>   -0.112</td> <td>   -0.034</td>\n",
              "</tr>\n",
              "<tr>\n",
              "  <th>OverallQual_5</th>             <td>   -0.0250</td> <td>    0.014</td> <td>   -1.822</td> <td> 0.070</td> <td>   -0.052</td> <td>    0.002</td>\n",
              "</tr>\n",
              "<tr>\n",
              "  <th>OverallQual_6</th>             <td>   -0.0221</td> <td>    0.012</td> <td>   -1.838</td> <td> 0.068</td> <td>   -0.046</td> <td>    0.002</td>\n",
              "</tr>\n",
              "<tr>\n",
              "  <th>OverallQual_7</th>             <td>    0.0499</td> <td>    0.014</td> <td>    3.614</td> <td> 0.000</td> <td>    0.023</td> <td>    0.077</td>\n",
              "</tr>\n",
              "<tr>\n",
              "  <th>OverallQual_8</th>             <td>    0.0579</td> <td>    0.023</td> <td>    2.510</td> <td> 0.013</td> <td>    0.012</td> <td>    0.103</td>\n",
              "</tr>\n",
              "<tr>\n",
              "  <th>GarageType_Basment</th>        <td>   -0.0854</td> <td>    0.064</td> <td>   -1.332</td> <td> 0.185</td> <td>   -0.212</td> <td>    0.041</td>\n",
              "</tr>\n",
              "<tr>\n",
              "  <th>GarageType_BuiltIn</th>        <td>    0.0424</td> <td>    0.043</td> <td>    0.987</td> <td> 0.325</td> <td>   -0.042</td> <td>    0.127</td>\n",
              "</tr>\n",
              "<tr>\n",
              "  <th>BsmtFinType1_ALQ</th>          <td>    0.0041</td> <td>    0.013</td> <td>    0.316</td> <td> 0.753</td> <td>   -0.022</td> <td>    0.030</td>\n",
              "</tr>\n",
              "<tr>\n",
              "  <th>BsmtFinType1_BLQ</th>          <td>    0.0049</td> <td>    0.015</td> <td>    0.320</td> <td> 0.749</td> <td>   -0.025</td> <td>    0.035</td>\n",
              "</tr>\n",
              "<tr>\n",
              "  <th>BsmtFinType1_GLQ</th>          <td>    0.0550</td> <td>    0.015</td> <td>    3.776</td> <td> 0.000</td> <td>    0.026</td> <td>    0.084</td>\n",
              "</tr>\n",
              "<tr>\n",
              "  <th>BsmtFinType1_LwQ</th>          <td>   -0.0607</td> <td>    0.019</td> <td>   -3.172</td> <td> 0.002</td> <td>   -0.098</td> <td>   -0.023</td>\n",
              "</tr>\n",
              "<tr>\n",
              "  <th>BsmtFinType1_Rec</th>          <td>   -0.0110</td> <td>    0.014</td> <td>   -0.773</td> <td> 0.441</td> <td>   -0.039</td> <td>    0.017</td>\n",
              "</tr>\n",
              "<tr>\n",
              "  <th>BsmtFinType1_Unf</th>          <td>   -0.0048</td> <td>    0.017</td> <td>   -0.293</td> <td> 0.770</td> <td>   -0.038</td> <td>    0.028</td>\n",
              "</tr>\n",
              "<tr>\n",
              "  <th>RoofStyle_Gambrel</th>         <td>    0.0325</td> <td>    0.049</td> <td>    0.664</td> <td> 0.508</td> <td>   -0.064</td> <td>    0.129</td>\n",
              "</tr>\n",
              "<tr>\n",
              "  <th>RoofStyle_Hip</th>             <td>    0.0157</td> <td>    0.015</td> <td>    1.048</td> <td> 0.296</td> <td>   -0.014</td> <td>    0.045</td>\n",
              "</tr>\n",
              "<tr>\n",
              "  <th>HouseStyle_1.5Fin</th>         <td>   -0.0396</td> <td>    0.031</td> <td>   -1.279</td> <td> 0.202</td> <td>   -0.101</td> <td>    0.021</td>\n",
              "</tr>\n",
              "<tr>\n",
              "  <th>HouseStyle_1.5Unf</th>         <td>    0.0359</td> <td>    0.065</td> <td>    0.555</td> <td> 0.579</td> <td>   -0.092</td> <td>    0.163</td>\n",
              "</tr>\n",
              "<tr>\n",
              "  <th>HouseStyle_1Story</th>         <td>    0.0698</td> <td>    0.025</td> <td>    2.803</td> <td> 0.006</td> <td>    0.021</td> <td>    0.119</td>\n",
              "</tr>\n",
              "<tr>\n",
              "  <th>HouseStyle_2Story</th>         <td>   -0.0698</td> <td>    0.049</td> <td>   -1.437</td> <td> 0.152</td> <td>   -0.166</td> <td>    0.026</td>\n",
              "</tr>\n",
              "<tr>\n",
              "  <th>HouseStyle_SFoyer</th>         <td>    0.0068</td> <td>    0.045</td> <td>    0.151</td> <td> 0.880</td> <td>   -0.082</td> <td>    0.096</td>\n",
              "</tr>\n",
              "<tr>\n",
              "  <th>HouseStyle_SLvl</th>           <td>   -0.0156</td> <td>    0.032</td> <td>   -0.482</td> <td> 0.631</td> <td>   -0.080</td> <td>    0.048</td>\n",
              "</tr>\n",
              "<tr>\n",
              "  <th>ExterQual_TA</th>              <td>   -0.0204</td> <td>    0.018</td> <td>   -1.148</td> <td> 0.253</td> <td>   -0.056</td> <td>    0.015</td>\n",
              "</tr>\n",
              "</table>\n",
              "<table class=\"simpletable\">\n",
              "<tr>\n",
              "  <th>Omnibus:</th>       <td>18.184</td> <th>  Durbin-Watson:     </th> <td>   1.831</td>\n",
              "</tr>\n",
              "<tr>\n",
              "  <th>Prob(Omnibus):</th> <td> 0.000</td> <th>  Jarque-Bera (JB):  </th> <td>  47.469</td>\n",
              "</tr>\n",
              "<tr>\n",
              "  <th>Skew:</th>          <td> 0.218</td> <th>  Prob(JB):          </th> <td>4.92e-11</td>\n",
              "</tr>\n",
              "<tr>\n",
              "  <th>Kurtosis:</th>      <td> 5.019</td> <th>  Cond. No.          </th> <td>1.07e+16</td>\n",
              "</tr>\n",
              "</table><br/><br/>Warnings:<br/>[1] Standard Errors assume that the covariance matrix of the errors is correctly specified.<br/>[2] The smallest eigenvalue is 1.93e-29. This might indicate that there are<br/>strong multicollinearity problems or that the design matrix is singular."
            ],
            "text/plain": [
              "<class 'statsmodels.iolib.summary.Summary'>\n",
              "\"\"\"\n",
              "                            OLS Regression Results                            \n",
              "==============================================================================\n",
              "Dep. Variable:              SalePrice   R-squared:                       0.927\n",
              "Model:                            OLS   Adj. R-squared:                  0.897\n",
              "Method:                 Least Squares   F-statistic:                     30.18\n",
              "Date:                Wed, 09 Feb 2022   Prob (F-statistic):           6.33e-75\n",
              "Time:                        15:55:50   Log-Likelihood:                 382.50\n",
              "No. Observations:                 267   AIC:                            -605.0\n",
              "Df Residuals:                     187   BIC:                            -318.0\n",
              "Df Model:                          79                                         \n",
              "Covariance Type:            nonrobust                                         \n",
              "=============================================================================================\n",
              "                                coef    std err          t      P>|t|      [0.025      0.975]\n",
              "---------------------------------------------------------------------------------------------\n",
              "const                        -0.0125      0.027     -0.466      0.642      -0.066       0.041\n",
              "LotFrontage                   0.0973      0.032      3.003      0.003       0.033       0.161\n",
              "BsmtUnfSF                    -0.0617      0.037     -1.652      0.100      -0.135       0.012\n",
              "1stFlrSF                     -0.1023      0.089     -1.147      0.253      -0.278       0.074\n",
              "LowQualFinSF              -1.168e-16   1.09e-16     -1.072      0.285   -3.32e-16    9.82e-17\n",
              "GrLivArea                     0.5264      0.097      5.451      0.000       0.336       0.717\n",
              "BsmtFullBath                  0.0168      0.013      1.298      0.196      -0.009       0.042\n",
              "FullBath                      0.0328      0.021      1.548      0.123      -0.009       0.075\n",
              "HalfBath                      0.0191      0.016      1.194      0.234      -0.012       0.051\n",
              "KitchenAbvGr               9.687e-17   8.85e-17      1.094      0.275   -7.78e-17    2.72e-16\n",
              "Fireplaces                    0.0258      0.013      2.017      0.045       0.001       0.051\n",
              "GarageArea                    0.0929      0.029      3.211      0.002       0.036       0.150\n",
              "WoodDeckSF                    0.0257      0.019      1.326      0.187      -0.013       0.064\n",
              "OpenPorchSF                   0.0267      0.022      1.201      0.231      -0.017       0.071\n",
              "EnclosedPorch                 0.0326      0.028      1.146      0.253      -0.023       0.089\n",
              "3SsnPorch                 -3.393e-16   1.45e-16     -2.346      0.020   -6.25e-16    -5.4e-17\n",
              "PoolArea                   1.632e-17   9.95e-17      0.164      0.870    -1.8e-16    2.13e-16\n",
              "MiscVal                    4.108e-16   1.16e-16      3.555      0.000    1.83e-16    6.39e-16\n",
              "MoSold                       -0.0190      0.021     -0.907      0.366      -0.060       0.022\n",
              "GarageFinish_Fin             -0.0096      0.014     -0.708      0.480      -0.036       0.017\n",
              "GarageFinish_RFn              0.0102      0.012      0.821      0.413      -0.014       0.035\n",
              "GarageFinish_Unf             -0.0131      0.013     -1.031      0.304      -0.038       0.012\n",
              "YearRemodAdd_(2010, 2020] -1.185e-16   1.18e-16     -1.008      0.315   -3.51e-16    1.14e-16\n",
              "Exterior1st_BrkFace           0.0596      0.045      1.316      0.190      -0.030       0.149\n",
              "Exterior1st_Plywood          -0.0307      0.037     -0.831      0.407      -0.104       0.042\n",
              "LotConfig_Corner              0.0160      0.019      0.845      0.399      -0.021       0.053\n",
              "LotConfig_CulDSac             0.0356      0.022      1.632      0.104      -0.007       0.079\n",
              "LotConfig_FR2                 0.0177      0.028      0.637      0.525      -0.037       0.073\n",
              "LotConfig_FR3                -0.0843      0.046     -1.835      0.068      -0.175       0.006\n",
              "LotConfig_Inside              0.0025      0.014      0.172      0.863      -0.026       0.031\n",
              "KitchenQual_Ex                0.1907      0.060      3.156      0.002       0.071       0.310\n",
              "KitchenQual_Fa                0.1158      0.039      2.986      0.003       0.039       0.192\n",
              "KitchenQual_TA                0.0294      0.015      1.898      0.059      -0.001       0.060\n",
              "MasVnrType_NA                -0.0344      0.072     -0.476      0.635      -0.177       0.108\n",
              "MasVnrType_None              -0.0177      0.012     -1.442      0.151      -0.042       0.007\n",
              "LotShape_IR2                 -0.0149      0.046     -0.321      0.749      -0.106       0.077\n",
              "GarageYrBlt_(2010, 2020]   1.146e-18   4.06e-17      0.028      0.977   -7.88e-17    8.11e-17\n",
              "OverallCond_3             -1.152e-16   4.29e-17     -2.684      0.008      -2e-16   -3.05e-17\n",
              "OverallCond_4                -0.0838      0.039     -2.173      0.031      -0.160      -0.008\n",
              "OverallCond_5                -0.0374      0.016     -2.330      0.021      -0.069      -0.006\n",
              "OverallCond_6                 0.0084      0.015      0.543      0.588      -0.022       0.039\n",
              "OverallCond_7                 0.0294      0.017      1.773      0.078      -0.003       0.062\n",
              "OverallCond_8                 0.0110      0.026      0.423      0.673      -0.040       0.062\n",
              "OverallCond_9                 0.0599      0.042      1.415      0.159      -0.024       0.143\n",
              "YrSold_(1860, 2006]          -0.0094      0.011     -0.856      0.393      -0.031       0.012\n",
              "YrSold_(2006, 2008]          -0.0029      0.011     -0.252      0.801      -0.025       0.020\n",
              "YrSold_(2008, 2010]          -0.0002      0.012     -0.019      0.985      -0.025       0.024\n",
              "YrSold_(2010, 2020]        4.024e-17    3.5e-17      1.150      0.252   -2.88e-17    1.09e-16\n",
              "MSZoning_FV                   0.0831      0.028      2.996      0.003       0.028       0.138\n",
              "BsmtExposure_Av               0.0935      0.075      1.250      0.213      -0.054       0.241\n",
              "BsmtExposure_Gd               0.1527      0.080      1.918      0.057      -0.004       0.310\n",
              "BsmtExposure_Mn               0.0825      0.076      1.085      0.280      -0.068       0.233\n",
              "BsmtExposure_No               0.0725      0.074      0.985      0.326      -0.073       0.218\n",
              "HeatingQC_Ex                 -0.0027      0.013     -0.199      0.842      -0.029       0.024\n",
              "HeatingQC_Fa                  0.0171      0.029      0.600      0.549      -0.039       0.073\n",
              "HeatingQC_Gd                 -0.0014      0.014     -0.102      0.919      -0.029       0.026\n",
              "HeatingQC_TA                 -0.0256      0.014     -1.767      0.079      -0.054       0.003\n",
              "YearBuilt_(1860, 1960]       -0.0781      0.018     -4.369      0.000      -0.113      -0.043\n",
              "YearBuilt_(1960, 1980]       -0.0441      0.016     -2.739      0.007      -0.076      -0.012\n",
              "YearBuilt_(1980, 2000]        0.0315      0.017      1.838      0.068      -0.002       0.065\n",
              "YearBuilt_(2000, 2010]        0.0782      0.020      3.918      0.000       0.039       0.118\n",
              "YearBuilt_(2010, 2020]     6.187e-17   2.25e-17      2.751      0.007    1.75e-17    1.06e-16\n",
              "MSSubClass_30                -0.0184      0.033     -0.567      0.571      -0.083       0.046\n",
              "MSSubClass_90                -0.0498      0.081     -0.614      0.540      -0.210       0.110\n",
              "MSSubClass_120                0.1181      0.031      3.779      0.000       0.056       0.180\n",
              "MSSubClass_160               -0.1493      0.082     -1.819      0.071      -0.311       0.013\n",
              "MSSubClass_190                0.0316      0.058      0.548      0.585      -0.082       0.145\n",
              "BsmtQual_Ex                   0.0944      0.031      3.041      0.003       0.033       0.156\n",
              "Exterior2nd_AsbShng           0.0596      0.071      0.835      0.405      -0.081       0.200\n",
              "Exterior2nd_BrkFace          -0.0016      0.051     -0.030      0.976      -0.103       0.100\n",
              "Exterior2nd_CmentBd           0.0279      0.078      0.358      0.720      -0.126       0.182\n",
              "Exterior2nd_HdBoard           0.0079      0.020      0.387      0.699      -0.032       0.048\n",
              "Exterior2nd_ImStucc       -3.769e-17   1.71e-17     -2.204      0.029   -7.14e-17   -3.95e-18\n",
              "Exterior2nd_MetalSd           0.0219      0.018      1.224      0.222      -0.013       0.057\n",
              "Exterior2nd_Plywood           0.0030      0.032      0.095      0.924      -0.060       0.066\n",
              "Exterior2nd_Stucco           -0.1380      0.057     -2.435      0.016      -0.250      -0.026\n",
              "Exterior2nd_VinylSd           0.0055      0.020      0.276      0.783      -0.034       0.045\n",
              "Exterior2nd_Wd Sdng           0.0266      0.020      1.320      0.188      -0.013       0.066\n",
              "Exterior2nd_Wd Shng          -0.0254      0.037     -0.695      0.488      -0.098       0.047\n",
              "OverallQual_4                -0.0734      0.020     -3.709      0.000      -0.112      -0.034\n",
              "OverallQual_5                -0.0250      0.014     -1.822      0.070      -0.052       0.002\n",
              "OverallQual_6                -0.0221      0.012     -1.838      0.068      -0.046       0.002\n",
              "OverallQual_7                 0.0499      0.014      3.614      0.000       0.023       0.077\n",
              "OverallQual_8                 0.0579      0.023      2.510      0.013       0.012       0.103\n",
              "GarageType_Basment           -0.0854      0.064     -1.332      0.185      -0.212       0.041\n",
              "GarageType_BuiltIn            0.0424      0.043      0.987      0.325      -0.042       0.127\n",
              "BsmtFinType1_ALQ              0.0041      0.013      0.316      0.753      -0.022       0.030\n",
              "BsmtFinType1_BLQ              0.0049      0.015      0.320      0.749      -0.025       0.035\n",
              "BsmtFinType1_GLQ              0.0550      0.015      3.776      0.000       0.026       0.084\n",
              "BsmtFinType1_LwQ             -0.0607      0.019     -3.172      0.002      -0.098      -0.023\n",
              "BsmtFinType1_Rec             -0.0110      0.014     -0.773      0.441      -0.039       0.017\n",
              "BsmtFinType1_Unf             -0.0048      0.017     -0.293      0.770      -0.038       0.028\n",
              "RoofStyle_Gambrel             0.0325      0.049      0.664      0.508      -0.064       0.129\n",
              "RoofStyle_Hip                 0.0157      0.015      1.048      0.296      -0.014       0.045\n",
              "HouseStyle_1.5Fin            -0.0396      0.031     -1.279      0.202      -0.101       0.021\n",
              "HouseStyle_1.5Unf             0.0359      0.065      0.555      0.579      -0.092       0.163\n",
              "HouseStyle_1Story             0.0698      0.025      2.803      0.006       0.021       0.119\n",
              "HouseStyle_2Story            -0.0698      0.049     -1.437      0.152      -0.166       0.026\n",
              "HouseStyle_SFoyer             0.0068      0.045      0.151      0.880      -0.082       0.096\n",
              "HouseStyle_SLvl              -0.0156      0.032     -0.482      0.631      -0.080       0.048\n",
              "ExterQual_TA                 -0.0204      0.018     -1.148      0.253      -0.056       0.015\n",
              "==============================================================================\n",
              "Omnibus:                       18.184   Durbin-Watson:                   1.831\n",
              "Prob(Omnibus):                  0.000   Jarque-Bera (JB):               47.469\n",
              "Skew:                           0.218   Prob(JB):                     4.92e-11\n",
              "Kurtosis:                       5.019   Cond. No.                     1.07e+16\n",
              "==============================================================================\n",
              "\n",
              "Warnings:\n",
              "[1] Standard Errors assume that the covariance matrix of the errors is correctly specified.\n",
              "[2] The smallest eigenvalue is 1.93e-29. This might indicate that there are\n",
              "strong multicollinearity problems or that the design matrix is singular.\n",
              "\"\"\""
            ]
          },
          "metadata": {},
          "execution_count": 648
        }
      ]
    },
    {
      "cell_type": "code",
      "source": [
        "# get columns with higher p-value (> 0.1)\n",
        "def getInsignificantColumns(lr, xtrain, min):    \n",
        "    numAttributes = len(lr.pvalues)\n",
        "    drop_columns_index = []\n",
        "    drop_columns = []\n",
        "\n",
        "    print(numAttributes)\n",
        "\n",
        "    \n",
        "\n",
        "    # pvalues contans const that is not in original column list\n",
        "    # make a list of all columns which have p-value greater than\n",
        "    for attributeIndex in range (1, numAttributes):\n",
        "        if lr.pvalues[attributeIndex] > min:\n",
        "            drop_columns_index.append(attributeIndex-1)\n",
        "            drop_columns.append(xtrain.columns[attributeIndex-1])\n",
        "\n",
        "   \n",
        "    #print('Drop below columns with p-value greater than min')\n",
        "    #print(drop_columns)\n",
        "    #print(lr.pvalues[drop_columns])\n",
        "    return drop_columns"
      ],
      "metadata": {
        "id": "BlpV-L6UGXlm"
      },
      "execution_count": 662,
      "outputs": []
    },
    {
      "cell_type": "code",
      "source": [
        "def dropInsignificantColumns(lm, xtrain,min):\n",
        "  drop_columns = getInsignificantColumns(lm, xtrain, min)\n",
        "  xtrain.drop(drop_columns, axis=1, inplace=True)\n",
        "  xtrainlm,lm = getLinearRegressionModel(xtrain)\n",
        "  print(lm.summary())\n",
        "  return xtrainlm,xtrain,lm"
      ],
      "metadata": {
        "id": "EC0sxfA4LlwA"
      },
      "execution_count": 670,
      "outputs": []
    },
    {
      "cell_type": "code",
      "source": [
        "X_train_lm,X_train_rfe, lm = dropInsignificantColumns(lm,X_train_rfe,0.2)\n"
      ],
      "metadata": {
        "colab": {
          "base_uri": "https://localhost:8080/"
        },
        "id": "gBALkIkeGwBl",
        "outputId": "52cdfecc-1474-4e16-cae2-8ec65e1ff888"
      },
      "execution_count": 671,
      "outputs": [
        {
          "output_type": "stream",
          "name": "stdout",
          "text": [
            "42\n",
            "                            OLS Regression Results                            \n",
            "==============================================================================\n",
            "Dep. Variable:              SalePrice   R-squared:                       0.917\n",
            "Model:                            OLS   Adj. R-squared:                  0.904\n",
            "Method:                 Least Squares   F-statistic:                     70.64\n",
            "Date:                Wed, 09 Feb 2022   Prob (F-statistic):          1.13e-104\n",
            "Time:                        16:07:25   Log-Likelihood:                 364.94\n",
            "No. Observations:                 267   AIC:                            -655.9\n",
            "Df Residuals:                     230   BIC:                            -523.2\n",
            "Df Model:                          36                                         \n",
            "Covariance Type:            nonrobust                                         \n",
            "==========================================================================================\n",
            "                             coef    std err          t      P>|t|      [0.025      0.975]\n",
            "------------------------------------------------------------------------------------------\n",
            "const                      0.0176      0.023      0.770      0.442      -0.027       0.063\n",
            "LotFrontage                0.0986      0.027      3.619      0.000       0.045       0.152\n",
            "BsmtUnfSF                 -0.0698      0.022     -3.133      0.002      -0.114      -0.026\n",
            "GrLivArea                  0.4716      0.032     14.796      0.000       0.409       0.534\n",
            "BsmtFullBath               0.0166      0.011      1.528      0.128      -0.005       0.038\n",
            "FullBath                   0.0297      0.016      1.837      0.067      -0.002       0.061\n",
            "Fireplaces                 0.0148      0.010      1.516      0.131      -0.004       0.034\n",
            "GarageArea                 0.0716      0.024      2.978      0.003       0.024       0.119\n",
            "WoodDeckSF                 0.0297      0.017      1.775      0.077      -0.003       0.063\n",
            "MiscVal                 8.863e-17   4.19e-17      2.118      0.035    6.16e-18    1.71e-16\n",
            "Exterior1st_BrkFace        0.0586      0.035      1.695      0.091      -0.010       0.127\n",
            "LotConfig_CulDSac          0.0375      0.019      1.947      0.053      -0.000       0.076\n",
            "LotConfig_FR3             -0.0782      0.049     -1.584      0.115      -0.175       0.019\n",
            "KitchenQual_Ex             0.2203      0.050      4.420      0.000       0.122       0.319\n",
            "KitchenQual_Fa             0.0988      0.034      2.941      0.004       0.033       0.165\n",
            "KitchenQual_TA             0.0203      0.013      1.507      0.133      -0.006       0.047\n",
            "MasVnrType_None           -0.0189      0.010     -1.857      0.065      -0.039       0.001\n",
            "OverallCond_3           2.613e-17   2.85e-17      0.917      0.360      -3e-17    8.22e-17\n",
            "OverallCond_4             -0.0895      0.038     -2.343      0.020      -0.165      -0.014\n",
            "OverallCond_5             -0.0412      0.013     -3.190      0.002      -0.067      -0.016\n",
            "OverallCond_7              0.0280      0.015      1.833      0.068      -0.002       0.058\n",
            "OverallCond_9              0.0625      0.042      1.479      0.141      -0.021       0.146\n",
            "MSZoning_FV                0.0883      0.024      3.680      0.000       0.041       0.136\n",
            "BsmtExposure_Gd            0.0794      0.026      3.048      0.003       0.028       0.131\n",
            "HeatingQC_TA              -0.0224      0.012     -1.913      0.057      -0.045       0.001\n",
            "YearBuilt_(1860, 1960]    -0.0744      0.011     -6.934      0.000      -0.095      -0.053\n",
            "YearBuilt_(1960, 1980]    -0.0390      0.012     -3.297      0.001      -0.062      -0.016\n",
            "YearBuilt_(1980, 2000]     0.0367      0.014      2.575      0.011       0.009       0.065\n",
            "YearBuilt_(2000, 2010]     0.0943      0.015      6.464      0.000       0.066       0.123\n",
            "MSSubClass_120             0.1241      0.026      4.744      0.000       0.073       0.176\n",
            "MSSubClass_160            -0.1857      0.071     -2.613      0.010      -0.326      -0.046\n",
            "BsmtQual_Ex                0.0968      0.028      3.496      0.001       0.042       0.151\n",
            "Exterior2nd_ImStucc     4.614e-17   1.05e-17      4.386      0.000    2.54e-17    6.69e-17\n",
            "Exterior2nd_Stucco        -0.1581      0.053     -2.977      0.003      -0.263      -0.053\n",
            "OverallQual_4             -0.0606      0.018     -3.386      0.001      -0.096      -0.025\n",
            "OverallQual_7              0.0729      0.014      5.085      0.000       0.045       0.101\n",
            "OverallQual_8              0.0836      0.023      3.582      0.000       0.038       0.130\n",
            "GarageType_Basment        -0.1165      0.054     -2.155      0.032      -0.223      -0.010\n",
            "BsmtFinType1_GLQ           0.0570      0.014      4.161      0.000       0.030       0.084\n",
            "BsmtFinType1_LwQ          -0.0563      0.020     -2.820      0.005      -0.096      -0.017\n",
            "HouseStyle_1Story          0.0652      0.013      4.998      0.000       0.039       0.091\n",
            "==============================================================================\n",
            "Omnibus:                       13.619   Durbin-Watson:                   1.889\n",
            "Prob(Omnibus):                  0.001   Jarque-Bera (JB):               30.885\n",
            "Skew:                           0.142   Prob(JB):                     1.96e-07\n",
            "Kurtosis:                       4.642   Cond. No.                     1.16e+16\n",
            "==============================================================================\n",
            "\n",
            "Warnings:\n",
            "[1] Standard Errors assume that the covariance matrix of the errors is correctly specified.\n",
            "[2] The smallest eigenvalue is 8.51e-30. This might indicate that there are\n",
            "strong multicollinearity problems or that the design matrix is singular.\n"
          ]
        }
      ]
    },
    {
      "cell_type": "code",
      "source": [
        "# iteration 2 of removing the high p-values\n",
        "X_train_lm, X_train_rfe, lm = dropInsignificantColumns(lm,X_train_rfe,0.2)"
      ],
      "metadata": {
        "colab": {
          "base_uri": "https://localhost:8080/"
        },
        "id": "7bQe1ocsNuLh",
        "outputId": "f3ddb663-57b7-476a-bb10-8c9c762703e1"
      },
      "execution_count": 672,
      "outputs": [
        {
          "output_type": "stream",
          "name": "stdout",
          "text": [
            "41\n",
            "                            OLS Regression Results                            \n",
            "==============================================================================\n",
            "Dep. Variable:              SalePrice   R-squared:                       0.917\n",
            "Model:                            OLS   Adj. R-squared:                  0.904\n",
            "Method:                 Least Squares   F-statistic:                     70.64\n",
            "Date:                Wed, 09 Feb 2022   Prob (F-statistic):          1.13e-104\n",
            "Time:                        16:07:34   Log-Likelihood:                 364.94\n",
            "No. Observations:                 267   AIC:                            -655.9\n",
            "Df Residuals:                     230   BIC:                            -523.2\n",
            "Df Model:                          36                                         \n",
            "Covariance Type:            nonrobust                                         \n",
            "==========================================================================================\n",
            "                             coef    std err          t      P>|t|      [0.025      0.975]\n",
            "------------------------------------------------------------------------------------------\n",
            "const                      0.0176      0.023      0.770      0.442      -0.027       0.063\n",
            "LotFrontage                0.0986      0.027      3.619      0.000       0.045       0.152\n",
            "BsmtUnfSF                 -0.0698      0.022     -3.133      0.002      -0.114      -0.026\n",
            "GrLivArea                  0.4716      0.032     14.796      0.000       0.409       0.534\n",
            "BsmtFullBath               0.0166      0.011      1.528      0.128      -0.005       0.038\n",
            "FullBath                   0.0297      0.016      1.837      0.067      -0.002       0.061\n",
            "Fireplaces                 0.0148      0.010      1.516      0.131      -0.004       0.034\n",
            "GarageArea                 0.0716      0.024      2.978      0.003       0.024       0.119\n",
            "WoodDeckSF                 0.0297      0.017      1.775      0.077      -0.003       0.063\n",
            "MiscVal                -4.093e-17   3.91e-17     -1.046      0.297   -1.18e-16    3.62e-17\n",
            "Exterior1st_BrkFace        0.0586      0.035      1.695      0.091      -0.010       0.127\n",
            "LotConfig_CulDSac          0.0375      0.019      1.947      0.053      -0.000       0.076\n",
            "LotConfig_FR3             -0.0782      0.049     -1.584      0.115      -0.175       0.019\n",
            "KitchenQual_Ex             0.2203      0.050      4.420      0.000       0.122       0.319\n",
            "KitchenQual_Fa             0.0988      0.034      2.941      0.004       0.033       0.165\n",
            "KitchenQual_TA             0.0203      0.013      1.507      0.133      -0.006       0.047\n",
            "MasVnrType_None           -0.0189      0.010     -1.857      0.065      -0.039       0.001\n",
            "OverallCond_4             -0.0895      0.038     -2.343      0.020      -0.165      -0.014\n",
            "OverallCond_5             -0.0412      0.013     -3.190      0.002      -0.067      -0.016\n",
            "OverallCond_7              0.0280      0.015      1.833      0.068      -0.002       0.058\n",
            "OverallCond_9              0.0625      0.042      1.479      0.141      -0.021       0.146\n",
            "MSZoning_FV                0.0883      0.024      3.680      0.000       0.041       0.136\n",
            "BsmtExposure_Gd            0.0794      0.026      3.048      0.003       0.028       0.131\n",
            "HeatingQC_TA              -0.0224      0.012     -1.913      0.057      -0.045       0.001\n",
            "YearBuilt_(1860, 1960]    -0.0744      0.011     -6.934      0.000      -0.095      -0.053\n",
            "YearBuilt_(1960, 1980]    -0.0390      0.012     -3.297      0.001      -0.062      -0.016\n",
            "YearBuilt_(1980, 2000]     0.0367      0.014      2.575      0.011       0.009       0.065\n",
            "YearBuilt_(2000, 2010]     0.0943      0.015      6.464      0.000       0.066       0.123\n",
            "MSSubClass_120             0.1241      0.026      4.744      0.000       0.073       0.176\n",
            "MSSubClass_160            -0.1857      0.071     -2.613      0.010      -0.326      -0.046\n",
            "BsmtQual_Ex                0.0968      0.028      3.496      0.001       0.042       0.151\n",
            "Exterior2nd_ImStucc     3.722e-17   1.99e-17      1.866      0.063   -2.09e-18    7.65e-17\n",
            "Exterior2nd_Stucco        -0.1581      0.053     -2.977      0.003      -0.263      -0.053\n",
            "OverallQual_4             -0.0606      0.018     -3.386      0.001      -0.096      -0.025\n",
            "OverallQual_7              0.0729      0.014      5.085      0.000       0.045       0.101\n",
            "OverallQual_8              0.0836      0.023      3.582      0.000       0.038       0.130\n",
            "GarageType_Basment        -0.1165      0.054     -2.155      0.032      -0.223      -0.010\n",
            "BsmtFinType1_GLQ           0.0570      0.014      4.161      0.000       0.030       0.084\n",
            "BsmtFinType1_LwQ          -0.0563      0.020     -2.820      0.005      -0.096      -0.017\n",
            "HouseStyle_1Story          0.0652      0.013      4.998      0.000       0.039       0.091\n",
            "==============================================================================\n",
            "Omnibus:                       13.619   Durbin-Watson:                   1.889\n",
            "Prob(Omnibus):                  0.001   Jarque-Bera (JB):               30.885\n",
            "Skew:                           0.142   Prob(JB):                     1.96e-07\n",
            "Kurtosis:                       4.642   Cond. No.                     1.16e+16\n",
            "==============================================================================\n",
            "\n",
            "Warnings:\n",
            "[1] Standard Errors assume that the covariance matrix of the errors is correctly specified.\n",
            "[2] The smallest eigenvalue is 8.51e-30. This might indicate that there are\n",
            "strong multicollinearity problems or that the design matrix is singular.\n"
          ]
        }
      ]
    },
    {
      "cell_type": "code",
      "source": [
        "X_train = X_train_rfe"
      ],
      "metadata": {
        "id": "SMTqV9QgOusi"
      },
      "execution_count": 668,
      "outputs": []
    },
    {
      "cell_type": "markdown",
      "source": [
        "### Residual Analysis of the train data"
      ],
      "metadata": {
        "id": "g5zSRqzNOoHB"
      }
    },
    {
      "cell_type": "code",
      "source": [
        "y_train_cnt = lm.predict(X_train_lm)"
      ],
      "metadata": {
        "id": "5CwtvOKzOmI1"
      },
      "execution_count": 673,
      "outputs": []
    },
    {
      "cell_type": "code",
      "source": [
        "# Plot the histogram of the error terms\n",
        "fig = plt.figure()\n",
        "sns.distplot((y_train - y_train_cnt), bins = 20)\n",
        "fig.suptitle('Error Terms', fontsize = 20)                  # Plot heading \n",
        "plt.xlabel('Errors', fontsize = 18)                         # X-label"
      ],
      "metadata": {
        "colab": {
          "base_uri": "https://localhost:8080/",
          "height": 333
        },
        "id": "xct1VNhmPgzk",
        "outputId": "fe9f9694-726a-40cf-e63e-7bb8a6a2ef4d"
      },
      "execution_count": 674,
      "outputs": [
        {
          "output_type": "execute_result",
          "data": {
            "text/plain": [
              "Text(0.5, 0, 'Errors')"
            ]
          },
          "metadata": {},
          "execution_count": 674
        },
        {
          "output_type": "display_data",
          "data": {
            "image/png": "[encoded data removed]",
            "text/plain": [
              "<Figure size 432x288 with 1 Axes>"
            ]
          },
          "metadata": {
            "needs_background": "light"
          }
        }
      ]
    },
    {
      "cell_type": "markdown",
      "source": [
        "### Predictions"
      ],
      "metadata": {
        "id": "V899SDDuOHWF"
      }
    },
    {
      "cell_type": "code",
      "source": [
        "df_test[numeric_columns_list] = scaler.transform(df_test[numeric_columns_list])"
      ],
      "metadata": {
        "id": "Z9mBkJj4OGae"
      },
      "execution_count": 667,
      "outputs": []
    },
    {
      "cell_type": "code",
      "source": [
        "y_test = df_test.pop('SalePrice')\n",
        "X_test = df_test"
      ],
      "metadata": {
        "id": "Pni6q2GEPshr"
      },
      "execution_count": 675,
      "outputs": []
    },
    {
      "cell_type": "code",
      "source": [
        "# Now let's use our model to make predictions.\n",
        "\n",
        "# Creating X_test_new dataframe by dropping variables from X_test\n",
        "X_test_new = X_test[X_train.columns]\n",
        "\n",
        "# Adding a constant variable \n",
        "X_test_new = sm.add_constant(X_test_new)\n"
      ],
      "metadata": {
        "id": "ske5d2KsP3WU"
      },
      "execution_count": 676,
      "outputs": []
    },
    {
      "cell_type": "code",
      "source": [
        "# Making predictions\n",
        "y_pred = lm.predict(X_test_new)"
      ],
      "metadata": {
        "id": "b7CVg8j2P8hD"
      },
      "execution_count": 677,
      "outputs": []
    },
    {
      "cell_type": "markdown",
      "source": [
        "### Model Evaluation"
      ],
      "metadata": {
        "id": "CAjMDQAdP_wc"
      }
    },
    {
      "cell_type": "code",
      "source": [
        "# Plotting y_test and y_pred to understand the spread.\n",
        "fig = plt.figure()\n",
        "plt.scatter(y_test,y_pred)\n",
        "fig.suptitle('y_test vs y_pred', fontsize=20)              # Plot heading \n",
        "plt.xlabel('y_test', fontsize=18)                          # X-label\n",
        "plt.ylabel('y_pred', fontsize=16)                          # Y-label"
      ],
      "metadata": {
        "colab": {
          "base_uri": "https://localhost:8080/",
          "height": 333
        },
        "id": "5-BB24duQC4N",
        "outputId": "ebf44172-4d34-4043-f5e2-16b62b98b852"
      },
      "execution_count": 678,
      "outputs": [
        {
          "output_type": "execute_result",
          "data": {
            "text/plain": [
              "Text(0, 0.5, 'y_pred')"
            ]
          },
          "metadata": {},
          "execution_count": 678
        },
        {
          "output_type": "display_data",
          "data": {
            "image/png": "[encoded data removed]",
            "text/plain": [
              "<Figure size 432x288 with 1 Axes>"
            ]
          },
          "metadata": {
            "needs_background": "light"
          }
        }
      ]
    },
    {
      "cell_type": "code",
      "source": [
        "def calculate_residuals(model, features, label):\n",
        "    \"\"\"\n",
        "    Creates predictions on the features with the model and calculates residuals\n",
        "    \"\"\"\n",
        "    predictions = model.predict(features)\n",
        "    df_results = pd.DataFrame({'Actual': label, 'Predicted': predictions})\n",
        "    df_results['Residuals'] = abs(df_results['Actual']) - abs(df_results['Predicted'])\n",
        "    \n",
        "    return df_results"
      ],
      "metadata": {
        "id": "nE1ABeJuQPQy"
      },
      "execution_count": 680,
      "outputs": []
    },
    {
      "cell_type": "code",
      "source": [
        "df_results = calculate_residuals(lm, X_test_new, y_test)\n"
      ],
      "metadata": {
        "id": "WGH2drInQZUx"
      },
      "execution_count": 681,
      "outputs": []
    },
    {
      "cell_type": "code",
      "source": [
        "# Plotting the actual vs predicted values\n",
        "sns.lmplot(x='Actual', y='Predicted', data=df_results, fit_reg=False, height=7)\n",
        "    \n",
        "# Plotting the diagonal line\n",
        "line_coords = np.arange(df_results.min().min(), df_results.max().max())\n",
        "plt.plot(line_coords, line_coords,  # X and y points\n",
        "          color='darkorange', linestyle='--')\n",
        "plt.title('Actual vs. Predicted')\n",
        "plt.show()"
      ],
      "metadata": {
        "colab": {
          "base_uri": "https://localhost:8080/",
          "height": 529
        },
        "id": "iPjxLUsPQbkJ",
        "outputId": "420d0190-315c-41f2-d7bf-4cde5ed2ee2c"
      },
      "execution_count": 684,
      "outputs": [
        {
          "output_type": "display_data",
          "data": {
            "image/png": "[encoded data removed]",
            "text/plain": [
              "<Figure size 504x504 with 1 Axes>"
            ]
          },
          "metadata": {
            "needs_background": "light"
          }
        }
      ]
    },
    {
      "cell_type": "code",
      "source": [
        "# Plotting y_test and y_pred to understand the spread.\n",
        "index = [i for i in range(1,df_results.shape[0]+1,1)]\n",
        "fig = plt.figure(figsize=(10, 5))\n",
        "plt.plot(index,df_results.Residuals, color=\"green\", linewidth=1, linestyle=\"-\")\n",
        "fig.suptitle('Error Terms', fontsize=20)          \n",
        "plt.xlabel('Index', fontsize=18)                    \n",
        "plt.ylabel('Residuals', fontsize=16)  \n",
        "plt.show()"
      ],
      "metadata": {
        "colab": {
          "base_uri": "https://localhost:8080/",
          "height": 378
        },
        "id": "lDsclVdEQ6Yb",
        "outputId": "01385f30-c624-4a30-de6f-215ebf10f76a"
      },
      "execution_count": 687,
      "outputs": [
        {
          "output_type": "display_data",
          "data": {
            "image/png": "[encoded data removed]",
            "text/plain": [
              "<Figure size 720x360 with 1 Axes>"
            ]
          },
          "metadata": {
            "needs_background": "light"
          }
        }
      ]
    },
    {
      "cell_type": "code",
      "source": [
        "#r2 score for train data\n",
        "\n",
        "from sklearn.metrics import r2_score\n",
        "r2_score(y_train, y_train_cnt)"
      ],
      "metadata": {
        "colab": {
          "base_uri": "https://localhost:8080/"
        },
        "id": "z2vVL6cPRBd3",
        "outputId": "7d6f0dbb-753a-4f25-a23b-e9d214fd666e"
      },
      "execution_count": 688,
      "outputs": [
        {
          "output_type": "execute_result",
          "data": {
            "text/plain": [
              "0.91706267758285"
            ]
          },
          "metadata": {},
          "execution_count": 688
        }
      ]
    },
    {
      "cell_type": "code",
      "source": [
        "#r2 score for test data\n",
        "from sklearn.metrics import r2_score\n",
        "r2_score(y_test, y_pred)"
      ],
      "metadata": {
        "colab": {
          "base_uri": "https://localhost:8080/"
        },
        "id": "WvkaMSHNREbQ",
        "outputId": "1879fee6-5602-414c-d6ca-dec46d1eb35b"
      },
      "execution_count": 689,
      "outputs": [
        {
          "output_type": "execute_result",
          "data": {
            "text/plain": [
              "0.790175806896717"
            ]
          },
          "metadata": {},
          "execution_count": 689
        }
      ]
    },
    {
      "cell_type": "markdown",
      "source": [
        "## Regularization"
      ],
      "metadata": {
        "id": "EZKakkWeRI54"
      }
    },
    {
      "cell_type": "code",
      "source": [
        "allcols = X_train.columns\n",
        "df_test_reg = df_test.copy();\n",
        "X_train_reg = X_train\n",
        "y_train_reg = y_train\n",
        "\n",
        "y_test_reg = y_test\n",
        "X_test_reg = X_test[allcols]"
      ],
      "metadata": {
        "id": "p7e50K4DRIpi"
      },
      "execution_count": 703,
      "outputs": []
    },
    {
      "cell_type": "code",
      "source": [
        "def getRegularizationModel(X_train, X_test, y_train, y_test, model, customAlpha = 0):\n",
        "    print('Model: %s' %model)  \n",
        "\n",
        "    if model == 'lasso':\n",
        "        estimator_model = Lasso()\n",
        "    else:\n",
        "        estimator_model = Ridge()\n",
        "\n",
        "    # kfold for randomization\n",
        "    cv = RepeatedKFold(n_splits=10, n_repeats=3, random_state=1)\n",
        "\n",
        "    # grid search\n",
        "    grid = dict()\n",
        "    grid['alpha'] = [0.005, 0.01, 0.05, 0.1, 0.2, 0.5, 1, 10, 20, 50, 100, 300, 500, 1000 ]\n",
        "    if not customAlpha == 0:\n",
        "      grid['alpha'] = [customAlpha]\n",
        "\n",
        "    search = GridSearchCV(estimator_model, grid, scoring='neg_mean_absolute_error', cv=cv, n_jobs=-1)\n",
        "    results = search.fit(X_train, y_train)\n",
        "\n",
        "    alpha = results.best_params_[\"alpha\"]\n",
        "    \n",
        "    print('Best fit alpha: %s' % results.best_params_)\n",
        "\n",
        "\n",
        "    reg_model = results.best_estimator_\n",
        "    reg_model.fit(X_train, y_train)\n",
        "    y_train_pred = reg_model.predict(X_train)\n",
        "    y_test_pred = reg_model.predict(X_test)\n",
        "\n",
        "    r2train = r2_score(y_train,y_train_pred)\n",
        "    r2test = r2_score(y_test,y_test_pred)\n",
        "    rmse_train = np.sqrt(mean_squared_error(y_train, y_train_pred))\n",
        "    rmse_test = np.sqrt(mean_squared_error(y_test, y_test_pred))\n",
        "\n",
        "    print('r2 train %s; r2 test: %s; rmse test: %s; rmse test: %s' %(r2train,r2test,rmse_train,rmse_test))\n",
        "\n",
        " \n",
        "   \n",
        "    return reg_model"
      ],
      "metadata": {
        "id": "FPzTN1JKSUQp"
      },
      "execution_count": 744,
      "outputs": []
    },
    {
      "cell_type": "code",
      "source": [
        "ridgeModel = getRegularizationModel(X_train_reg, X_test_reg, y_train_reg, y_test_reg, 'ridge')\n"
      ],
      "metadata": {
        "colab": {
          "base_uri": "https://localhost:8080/"
        },
        "id": "kBznVVA1UHwl",
        "outputId": "88195bfd-3d8a-4c11-9462-92265655482f"
      },
      "execution_count": 745,
      "outputs": [
        {
          "output_type": "stream",
          "name": "stdout",
          "text": [
            "Model: ridge\n",
            "Best fit alpha: {'alpha': 0.2}\n",
            "r2 train 0.9165417570287089; r2 test: 0.8048068694303204; rmse test: 0.061875331990942216; rmse test: 0.08061229193954787\n"
          ]
        }
      ]
    },
    {
      "cell_type": "code",
      "source": [
        "lassoModel = getRegularizationModel(X_train_reg, X_test_reg, y_train_reg, y_test_reg, 'lasso')\n",
        "\n"
      ],
      "metadata": {
        "colab": {
          "base_uri": "https://localhost:8080/"
        },
        "id": "am6E75HAbxZQ",
        "outputId": "3695bb51-f229-4b4d-f591-9f19f490c1dc"
      },
      "execution_count": 720,
      "outputs": [
        {
          "output_type": "stream",
          "name": "stdout",
          "text": [
            "Model: lasso\n",
            "Best fit alpha: {'alpha': 0.005}\n",
            "r2 train 0.8249160969550917; r2 test: 0.7422451229252784; rmse test: 0.08962022568375838; rmse test: 0.0926344335160095\n"
          ]
        }
      ]
    },
    {
      "cell_type": "markdown",
      "source": [
        "### Model Evaluation"
      ],
      "metadata": {
        "id": "z-HTuN5be0E6"
      }
    },
    {
      "cell_type": "code",
      "source": [
        "def plotPredictions_Reg(model):\n",
        "    ypred = model.predict(X_test_reg) \n",
        "    fig = plt.figure()\n",
        "    plt.scatter(y_test_reg, ypred)\n",
        "     \n",
        "    plt.xlabel('y', fontsize=14)\n",
        "    plt.ylabel('predcited', fontsize=14)  \n",
        "    plt.show()\n",
        "\n",
        "def plotErrors_Reg(model):  \n",
        "    ypred = model.predict(X_test_reg)\n",
        "    fig = plt.figure()\n",
        "    res=y_test_reg - ypred\n",
        "    \n",
        "    sns.distplot(res,kde=True)\n",
        "    plt.title('Error distribution')\n",
        "    plt.xlabel('Residuals')\n",
        "    plt.show()"
      ],
      "metadata": {
        "id": "b2a0wEzJezzl"
      },
      "execution_count": 731,
      "outputs": []
    },
    {
      "cell_type": "code",
      "source": [
        "# ridge model\n",
        "plotPredictions_Reg(ridgeModel)\n",
        "plotErrors_Reg(ridgeModel)\n"
      ],
      "metadata": {
        "colab": {
          "base_uri": "https://localhost:8080/",
          "height": 561
        },
        "id": "MLza-WNdfHr1",
        "outputId": "a16c9e54-f475-4bb8-d3ba-ff881db1eed5"
      },
      "execution_count": 732,
      "outputs": [
        {
          "output_type": "display_data",
          "data": {
            "image/png": "[encoded data removed]",
            "text/plain": [
              "<Figure size 432x288 with 1 Axes>"
            ]
          },
          "metadata": {
            "needs_background": "light"
          }
        },
        {
          "output_type": "display_data",
          "data": {
            "image/png": "[encoded data removed]",
            "text/plain": [
              "<Figure size 432x288 with 1 Axes>"
            ]
          },
          "metadata": {
            "needs_background": "light"
          }
        }
      ]
    },
    {
      "cell_type": "code",
      "source": [
        "# lasso model\n",
        "plotPredictions_Reg(lassoModel)\n",
        "plotErrors_Reg(lassoModel)"
      ],
      "metadata": {
        "colab": {
          "base_uri": "https://localhost:8080/",
          "height": 561
        },
        "id": "C0Vj2drAg4E5",
        "outputId": "2c7838ea-c7b7-4d6c-f80c-a31804eb18e1"
      },
      "execution_count": 733,
      "outputs": [
        {
          "output_type": "display_data",
          "data": {
            "image/png": "[encoded data removed]",
            "text/plain": [
              "<Figure size 432x288 with 1 Axes>"
            ]
          },
          "metadata": {
            "needs_background": "light"
          }
        },
        {
          "output_type": "display_data",
          "data": {
            "image/png": "[encoded data removed]",
            "text/plain": [
              "<Figure size 432x288 with 1 Axes>"
            ]
          },
          "metadata": {
            "needs_background": "light"
          }
        }
      ]
    },
    {
      "cell_type": "code",
      "source": [
        "#Most contributing factors according to ridge model\n",
        "pd.Series(ridgeModel.coef_, index = allcols).sort_values(ascending=False)"
      ],
      "metadata": {
        "colab": {
          "base_uri": "https://localhost:8080/"
        },
        "id": "pb5rCwICgt9d",
        "outputId": "04bd7688-2e55-4c04-cc4b-5e33c52dac87"
      },
      "execution_count": 738,
      "outputs": [
        {
          "output_type": "execute_result",
          "data": {
            "text/plain": [
              "GrLivArea                 0.448341\n",
              "KitchenQual_Ex            0.198612\n",
              "MSSubClass_120            0.116207\n",
              "LotFrontage               0.097281\n",
              "BsmtQual_Ex               0.094840\n",
              "YearBuilt_(2000, 2010]    0.088097\n",
              "OverallQual_8             0.087622\n",
              "MSZoning_FV               0.084974\n",
              "KitchenQual_Fa            0.083476\n",
              "BsmtExposure_Gd           0.073507\n",
              "OverallQual_7             0.073506\n",
              "GarageArea                0.070992\n",
              "HouseStyle_1Story         0.058847\n",
              "BsmtFinType1_GLQ          0.056735\n",
              "OverallCond_9             0.055101\n",
              "Exterior1st_BrkFace       0.052514\n",
              "LotConfig_CulDSac         0.035303\n",
              "YearBuilt_(1980, 2000]    0.032642\n",
              "FullBath                  0.032118\n",
              "OverallCond_7             0.027775\n",
              "WoodDeckSF                0.026000\n",
              "BsmtFullBath              0.018435\n",
              "Fireplaces                0.016431\n",
              "KitchenQual_TA            0.015277\n",
              "Exterior2nd_ImStucc       0.000000\n",
              "MiscVal                   0.000000\n",
              "MasVnrType_None          -0.020837\n",
              "HeatingQC_TA             -0.021438\n",
              "OverallCond_5            -0.039356\n",
              "YearBuilt_(1960, 1980]   -0.042494\n",
              "BsmtFinType1_LwQ         -0.052979\n",
              "OverallQual_4            -0.058994\n",
              "BsmtUnfSF                -0.062843\n",
              "LotConfig_FR3            -0.068678\n",
              "OverallCond_4            -0.077983\n",
              "YearBuilt_(1860, 1960]   -0.078245\n",
              "GarageType_Basment       -0.099042\n",
              "Exterior2nd_Stucco       -0.135851\n",
              "MSSubClass_160           -0.145994\n",
              "dtype: float64"
            ]
          },
          "metadata": {},
          "execution_count": 738
        }
      ]
    },
    {
      "cell_type": "code",
      "source": [
        "pd.Series(lassoModel.coef_, index = allcols).sort_values(ascending=False)"
      ],
      "metadata": {
        "colab": {
          "base_uri": "https://localhost:8080/"
        },
        "id": "H6XbnBFai9mn",
        "outputId": "32a4902e-653d-491e-9ccc-ca6e42a0b605"
      },
      "execution_count": 739,
      "outputs": [
        {
          "output_type": "execute_result",
          "data": {
            "text/plain": [
              "GrLivArea                 0.290808\n",
              "FullBath                  0.090627\n",
              "BsmtFinType1_GLQ          0.066364\n",
              "YearBuilt_(2000, 2010]    0.054901\n",
              "OverallQual_7             0.046864\n",
              "BsmtFullBath              0.028871\n",
              "OverallQual_8             0.026783\n",
              "LotFrontage               0.000000\n",
              "MSSubClass_160           -0.000000\n",
              "HeatingQC_TA             -0.000000\n",
              "YearBuilt_(1960, 1980]   -0.000000\n",
              "YearBuilt_(1980, 2000]    0.000000\n",
              "MSSubClass_120            0.000000\n",
              "Exterior2nd_Stucco       -0.000000\n",
              "BsmtQual_Ex               0.000000\n",
              "Exterior2nd_ImStucc       0.000000\n",
              "MSZoning_FV               0.000000\n",
              "GarageType_Basment       -0.000000\n",
              "BsmtFinType1_LwQ         -0.000000\n",
              "BsmtExposure_Gd           0.000000\n",
              "OverallCond_9             0.000000\n",
              "BsmtUnfSF                -0.000000\n",
              "OverallCond_7             0.000000\n",
              "Fireplaces                0.000000\n",
              "GarageArea                0.000000\n",
              "WoodDeckSF                0.000000\n",
              "MiscVal                   0.000000\n",
              "Exterior1st_BrkFace       0.000000\n",
              "LotConfig_CulDSac         0.000000\n",
              "LotConfig_FR3            -0.000000\n",
              "KitchenQual_Ex            0.000000\n",
              "KitchenQual_Fa           -0.000000\n",
              "OverallCond_4            -0.000000\n",
              "OverallCond_5             0.000000\n",
              "HouseStyle_1Story         0.000000\n",
              "OverallQual_4            -0.003353\n",
              "MasVnrType_None          -0.021573\n",
              "KitchenQual_TA           -0.046331\n",
              "YearBuilt_(1860, 1960]   -0.068153\n",
              "dtype: float64"
            ]
          },
          "metadata": {},
          "execution_count": 739
        }
      ]
    },
    {
      "cell_type": "code",
      "source": [
        ""
      ],
      "metadata": {
        "id": "wzkmmLtfnSC0"
      },
      "execution_count": null,
      "outputs": []
    },
    {
      "cell_type": "code",
      "source": [
        "ridgeModel_double = getRegularizationModel(X_train_reg, X_test_reg, y_train_reg, y_test_reg, 'ridge',customAlpha=0.4)"
      ],
      "metadata": {
        "colab": {
          "base_uri": "https://localhost:8080/"
        },
        "id": "iajlUUnOmbVv",
        "outputId": "7736796c-85cb-48cb-827d-04a76442fbb3"
      },
      "execution_count": 746,
      "outputs": [
        {
          "output_type": "stream",
          "name": "stdout",
          "text": [
            "Model: ridge\n",
            "Best fit alpha: {'alpha': 0.4}\n",
            "r2 train 0.9153709111501125; r2 test: 0.814512170915821; rmse test: 0.0623078486101151; rmse test: 0.0785826578287351\n"
          ]
        }
      ]
    },
    {
      "cell_type": "code",
      "source": [
        "pd.Series(ridgeModel_double.coef_, index = allcols).sort_values(ascending=False)"
      ],
      "metadata": {
        "colab": {
          "base_uri": "https://localhost:8080/"
        },
        "id": "r30n5Ry7nTHy",
        "outputId": "79b7face-5563-49df-a03f-0ff72168241a"
      },
      "execution_count": 747,
      "outputs": [
        {
          "output_type": "execute_result",
          "data": {
            "text/plain": [
              "GrLivArea                 0.428147\n",
              "KitchenQual_Ex            0.180708\n",
              "MSSubClass_120            0.109318\n",
              "LotFrontage               0.095803\n",
              "BsmtQual_Ex               0.092913\n",
              "OverallQual_8             0.090573\n",
              "YearBuilt_(2000, 2010]    0.086436\n",
              "MSZoning_FV               0.082034\n",
              "OverallQual_7             0.073932\n",
              "KitchenQual_Fa            0.071570\n",
              "GarageArea                0.070574\n",
              "BsmtExposure_Gd           0.068418\n",
              "BsmtFinType1_GLQ          0.056556\n",
              "HouseStyle_1Story         0.053411\n",
              "OverallCond_9             0.049211\n",
              "Exterior1st_BrkFace       0.047907\n",
              "FullBath                  0.034505\n",
              "LotConfig_CulDSac         0.033734\n",
              "YearBuilt_(1980, 2000]    0.032841\n",
              "OverallCond_7             0.027690\n",
              "WoodDeckSF                0.023338\n",
              "BsmtFullBath              0.019988\n",
              "Fireplaces                0.017808\n",
              "KitchenQual_TA            0.011092\n",
              "Exterior2nd_ImStucc       0.000000\n",
              "MiscVal                   0.000000\n",
              "HeatingQC_TA             -0.020755\n",
              "MasVnrType_None          -0.022402\n",
              "OverallCond_5            -0.037689\n",
              "YearBuilt_(1960, 1980]   -0.041630\n",
              "BsmtFinType1_LwQ         -0.050261\n",
              "BsmtUnfSF                -0.056995\n",
              "OverallQual_4            -0.057869\n",
              "LotConfig_FR3            -0.061286\n",
              "OverallCond_4            -0.069148\n",
              "YearBuilt_(1860, 1960]   -0.077647\n",
              "GarageType_Basment       -0.086351\n",
              "MSSubClass_160           -0.119163\n",
              "Exterior2nd_Stucco       -0.119303\n",
              "dtype: float64"
            ]
          },
          "metadata": {},
          "execution_count": 747
        }
      ]
    },
    {
      "cell_type": "code",
      "source": [
        "#lasso double\n",
        "lassoModel_double = getRegularizationModel(X_train_reg, X_test_reg, y_train_reg, y_test_reg, 'lasso',customAlpha=0.01)"
      ],
      "metadata": {
        "colab": {
          "base_uri": "https://localhost:8080/"
        },
        "id": "caJFo9tjn0JH",
        "outputId": "0a221fbc-3243-4830-cb30-9cc0a2d24070"
      },
      "execution_count": 748,
      "outputs": [
        {
          "output_type": "stream",
          "name": "stdout",
          "text": [
            "Model: lasso\n",
            "Best fit alpha: {'alpha': 0.01}\n",
            "r2 train 0.7668334789370916; r2 test: 0.7199451238911498; rmse test: 0.10342273535097145; rmse test: 0.09655851402841938\n"
          ]
        }
      ]
    },
    {
      "cell_type": "code",
      "source": [
        "pd.Series(lassoModel_double.coef_, index = allcols).sort_values(ascending=False)"
      ],
      "metadata": {
        "colab": {
          "base_uri": "https://localhost:8080/"
        },
        "id": "u7vCJzHcn8yX",
        "outputId": "bce84c1f-c34c-4abc-d4d7-af9c812a5a35"
      },
      "execution_count": 749,
      "outputs": [
        {
          "output_type": "execute_result",
          "data": {
            "text/plain": [
              "GrLivArea                 0.176303\n",
              "FullBath                  0.125814\n",
              "BsmtFinType1_GLQ          0.060014\n",
              "YearBuilt_(2000, 2010]    0.038956\n",
              "OverallQual_7             0.035447\n",
              "BsmtFullBath              0.013032\n",
              "LotFrontage               0.000000\n",
              "BsmtQual_Ex               0.000000\n",
              "YearBuilt_(1960, 1980]   -0.000000\n",
              "YearBuilt_(1980, 2000]    0.000000\n",
              "MSSubClass_120            0.000000\n",
              "MSSubClass_160            0.000000\n",
              "OverallQual_4            -0.000000\n",
              "Exterior2nd_ImStucc       0.000000\n",
              "Exterior2nd_Stucco       -0.000000\n",
              "BsmtExposure_Gd           0.000000\n",
              "OverallQual_8             0.000000\n",
              "GarageType_Basment       -0.000000\n",
              "BsmtFinType1_LwQ         -0.000000\n",
              "HeatingQC_TA             -0.000000\n",
              "OverallCond_9             0.000000\n",
              "MSZoning_FV               0.000000\n",
              "BsmtUnfSF                -0.000000\n",
              "Fireplaces                0.000000\n",
              "GarageArea                0.000000\n",
              "WoodDeckSF                0.000000\n",
              "MiscVal                   0.000000\n",
              "Exterior1st_BrkFace      -0.000000\n",
              "LotConfig_CulDSac         0.000000\n",
              "LotConfig_FR3            -0.000000\n",
              "KitchenQual_Ex            0.000000\n",
              "KitchenQual_Fa           -0.000000\n",
              "OverallCond_4            -0.000000\n",
              "OverallCond_5             0.000000\n",
              "OverallCond_7            -0.000000\n",
              "HouseStyle_1Story        -0.000000\n",
              "MasVnrType_None          -0.005314\n",
              "KitchenQual_TA           -0.052872\n",
              "YearBuilt_(1860, 1960]   -0.053633\n",
              "dtype: float64"
            ]
          },
          "metadata": {},
          "execution_count": 749
        }
      ]
    }
  ]
}